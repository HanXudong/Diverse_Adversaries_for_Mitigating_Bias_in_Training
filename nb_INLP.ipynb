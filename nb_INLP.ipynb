{
 "cells": [
  {
   "cell_type": "code",
   "execution_count": 1,
   "metadata": {},
   "outputs": [],
   "source": [
    "import os,argparse,time\n",
    "import numpy as np\n",
    "import torch\n",
    "import torch.backends.cudnn as cudnn\n",
    "import torch.optim\n",
    "import torch.utils.data\n",
    "import torch.utils.data.distributed"
   ]
  },
  {
   "cell_type": "code",
   "execution_count": 2,
   "metadata": {},
   "outputs": [],
   "source": [
    "from sklearn.metrics import accuracy_score\n",
    "from sklearn.metrics import roc_auc_score\n",
    "from sklearn.metrics import average_precision_score\n",
    "from sklearn.metrics import f1_score\n",
    "from sklearn.metrics import confusion_matrix"
   ]
  },
  {
   "cell_type": "code",
   "execution_count": 3,
   "metadata": {},
   "outputs": [],
   "source": [
    "from dataloaders.deep_moji import DeepMojiDataset\n",
    "from networks.deepmoji_sa import DeepMojiModel"
   ]
  },
  {
   "cell_type": "code",
   "execution_count": 4,
   "metadata": {},
   "outputs": [],
   "source": [
    "from networks.eval_metrices import group_evaluation"
   ]
  },
  {
   "cell_type": "code",
   "execution_count": 5,
   "metadata": {},
   "outputs": [],
   "source": [
    "from tqdm import tqdm, trange"
   ]
  },
  {
   "cell_type": "code",
   "execution_count": 6,
   "metadata": {},
   "outputs": [],
   "source": [
    "# reproducibility\n",
    "\n",
    "# DataLoader Parameters\n",
    "params = {'batch_size': 1024,\n",
    "          'shuffle': False,\n",
    "          'num_workers': 0}\n",
    "# Device\n",
    "device = torch.device(\"cuda\")\n"
   ]
  },
  {
   "cell_type": "code",
   "execution_count": 7,
   "metadata": {
    "tags": []
   },
   "outputs": [],
   "source": [
    "class Args:\n",
    "    use_fp16 = False\n",
    "    cuda = \"cuda\"\n",
    "    hidden_size = 300\n",
    "    emb_size = 2304\n",
    "    num_classes = 2\n",
    "    adv = False\n",
    "    adv_level = -1\n",
    "    lr = 3e-5\n",
    "    LAMBDA = 1e-4 # adversarial \n",
    "    adv_units = 256\n",
    "    ratio = 0.8\n",
    "    \n",
    "data_path = #Your data path\n",
    "args = Args()\n",
    "args.device = device"
   ]
  },
  {
   "cell_type": "code",
   "execution_count": 8,
   "metadata": {},
   "outputs": [
    {
     "output_type": "stream",
     "name": "stdout",
     "text": [
      "Loading preprocessed deepMoji Encoded data\n",
      "Done, loaded data shapes: (99998, 2304), (99998,), (99998,)\n"
     ]
    }
   ],
   "source": [
    "split = \"train\"\n",
    "train_data = DeepMojiDataset(args, data_path, split, ratio=args.ratio)"
   ]
  },
  {
   "cell_type": "code",
   "execution_count": 9,
   "metadata": {
    "tags": []
   },
   "outputs": [
    {
     "output_type": "stream",
     "name": "stdout",
     "text": [
      "Loading preprocessed deepMoji Encoded data\nDone, loaded data shapes: (8000, 2304), (8000,), (8000,)\n"
     ]
    }
   ],
   "source": [
    "dev_data = DeepMojiDataset(args, data_path, \"dev\", n=200000, ratio=args.ratio)"
   ]
  },
  {
   "cell_type": "code",
   "execution_count": 10,
   "metadata": {
    "tags": []
   },
   "outputs": [
    {
     "output_type": "stream",
     "name": "stdout",
     "text": [
      "Loading preprocessed deepMoji Encoded data\n",
      "Done, loaded data shapes: (7998, 2304), (7998,), (7998,)\n"
     ]
    }
   ],
   "source": [
    "test_data = DeepMojiDataset(args, data_path, \"test\", n=200000, ratio=args.ratio)"
   ]
  },
  {
   "cell_type": "code",
   "execution_count": 11,
   "metadata": {},
   "outputs": [],
   "source": [
    "training_generator = torch.utils.data.DataLoader(train_data, **params)\n",
    "validation_generator = torch.utils.data.DataLoader(dev_data, **params)\n",
    "test_generator = torch.utils.data.DataLoader(test_data, **params)"
   ]
  },
  {
   "cell_type": "code",
   "execution_count": 12,
   "metadata": {},
   "outputs": [],
   "source": [
    "model = DeepMojiModel(args)\n",
    "model = model.to(device)"
   ]
  },
  {
   "cell_type": "code",
   "execution_count": 13,
   "metadata": {
    "tags": []
   },
   "outputs": [
    {
     "output_type": "execute_result",
     "data": {
      "text/plain": [
       "<All keys matched successfully>"
      ]
     },
     "metadata": {},
     "execution_count": 13
    }
   ],
   "source": [
    "model.load_state_dict(torch.load(\"models\\\\deepmoji_model.pt\"))"
   ]
  },
  {
   "source": [
    "# INLP Debiasing"
   ],
   "cell_type": "markdown",
   "metadata": {}
  },
  {
   "cell_type": "code",
   "execution_count": 14,
   "metadata": {},
   "outputs": [],
   "source": [
    "model.eval()\n",
    "model.adv_level = -1\n",
    "\n",
    "train_hidden = []\n",
    "train_labels = []\n",
    "train_private_labels = []\n",
    "\n",
    "for batch in training_generator:\n",
    "    text = batch[0]\n",
    "    tags = batch[1]\n",
    "    p_tags = batch[2]\n",
    "    train_labels += list(tags.cpu().numpy() )\n",
    "    train_private_labels += list(p_tags.cpu().numpy())\n",
    "    \n",
    "    text = text.to(device)\n",
    "    hidden_state = model.hidden(text)\n",
    "    train_hidden.append(hidden_state.detach().cpu().numpy())\n",
    "train_hidden = np.concatenate(train_hidden, 0)\n",
    "dev_hidden = []\n",
    "dev_labels = []\n",
    "dev_private_labels = []\n",
    "for batch in validation_generator:\n",
    "    text = batch[0]\n",
    "    tags = batch[1]\n",
    "    p_tags = batch[2]\n",
    "    dev_labels += list(tags.cpu().numpy() )\n",
    "    dev_private_labels += list(p_tags.cpu().numpy())\n",
    "    \n",
    "    text = text.to(device)\n",
    "    hidden_state = model.hidden(text)\n",
    "    dev_hidden.append(hidden_state.detach().cpu().numpy())\n",
    "dev_hidden = np.concatenate(dev_hidden, 0)\n",
    "test_hidden = []\n",
    "test_labels = []\n",
    "test_private_labels = []\n",
    "for batch in test_generator:\n",
    "    text = batch[0]\n",
    "    tags = batch[1]\n",
    "    p_tags = batch[2]\n",
    "    test_labels += list(tags.cpu().numpy() )\n",
    "    test_private_labels += list(p_tags.cpu().numpy())\n",
    "    \n",
    "    text = text.to(device)\n",
    "    hidden_state = model.hidden(text)\n",
    "    test_hidden.append(hidden_state.detach().cpu().numpy())\n",
    "test_hidden = np.concatenate(test_hidden, 0)"
   ]
  },
  {
   "cell_type": "code",
   "execution_count": 15,
   "metadata": {},
   "outputs": [],
   "source": [
    "train_hidden = np.array(train_hidden)\n",
    "train_labels = np.array(train_labels)\n",
    "train_private_labels = np.array(train_private_labels)\n",
    "dev_hidden = np.array(dev_hidden)\n",
    "dev_labels = np.array(dev_labels)\n",
    "dev_private_labels = np.array(dev_private_labels)\n",
    "test_hidden = np.array(test_hidden)\n",
    "test_labels = np.array(test_labels)\n",
    "test_private_labels = np.array(test_private_labels)"
   ]
  },
  {
   "cell_type": "code",
   "execution_count": 16,
   "metadata": {},
   "outputs": [],
   "source": [
    "from INLP.debias import get_debiasing_projection\n",
    "from INLP.debias import get_projection_to_intersection_of_nullspaces\n",
    "\n",
    "from sklearn.svm import LinearSVC\n",
    "from sklearn.linear_model import LogisticRegression"
   ]
  },
  {
   "cell_type": "code",
   "execution_count": 17,
   "metadata": {},
   "outputs": [],
   "source": [
    "is_autoregressive = True\n",
    "min_acc = 0.51\n",
    "noise = False\n",
    "n = 300\n",
    "dim = 300\n",
    "\n",
    "clf = LinearSVC\n",
    "params = {'fit_intercept': True, 'class_weight': 'balanced', 'dual': False, 'C': 0.1}"
   ]
  },
  {
   "cell_type": "code",
   "execution_count": 18,
   "metadata": {
    "tags": []
   },
   "outputs": [
    {
     "output_type": "stream",
     "name": "stderr",
     "text": [
      "iteration: 299, accuracy: 0.506: 100%|██████████| 300/300 [09:06<00:00,  1.82s/it]\n"
     ]
    }
   ],
   "source": [
    "P_n = get_debiasing_projection(clf, params, n, dim, is_autoregressive, min_acc,\n",
    "                                train_hidden, train_private_labels, dev_hidden, dev_private_labels,\n",
    "                                by_class=True, Y_train_main=train_labels, Y_dev_main=dev_labels)"
   ]
  },
  {
   "cell_type": "code",
   "execution_count": 19,
   "metadata": {},
   "outputs": [],
   "source": [
    "from collections import Counter, defaultdict\n",
    "\n",
    "def get_TPR(y_main, y_hat_main, y_protected):\n",
    "    \n",
    "    all_y = list(Counter(y_main).keys())\n",
    "    \n",
    "    protected_vals = defaultdict(dict)\n",
    "    for label in all_y:\n",
    "        for i in range(2):\n",
    "            used_vals = (y_main == label) & (y_protected == i)\n",
    "            # print(sum(used_vals))\n",
    "            y_label = y_main[used_vals]\n",
    "            y_hat_label = y_hat_main[used_vals]\n",
    "            protected_vals['y:{}'.format(label)]['p:{}'.format(i)] = (y_label == y_hat_label).mean()\n",
    "            \n",
    "    diffs = {}\n",
    "    for k, v in protected_vals.items():\n",
    "        vals = list(v.values())\n",
    "        diffs[k] = vals[0] - vals[1]\n",
    "    return protected_vals, diffs"
   ]
  },
  {
   "cell_type": "code",
   "execution_count": 20,
   "metadata": {},
   "outputs": [
    {
     "output_type": "stream",
     "name": "stderr",
     "text": [
      "100%|██████████| 39/39 [02:04<00:00,  3.20s/it]\n"
     ]
    }
   ],
   "source": [
    "rowspaces = P_n[1]\n",
    "\n",
    "from collections import defaultdict\n",
    "\n",
    "ratio_tradeoff = defaultdict(dict)\n",
    "\n",
    "for p_iteration in tqdm(range(1, len(rowspaces))):\n",
    "    \n",
    "    P = get_projection_to_intersection_of_nullspaces(rowspaces[:p_iteration], input_dim=300)\n",
    "    \n",
    "    debiased_x_train = P.dot(train_hidden.T).T\n",
    "    debiased_x_dev = P.dot(dev_hidden.T).T\n",
    "    \n",
    "    classifier = LinearSVC(fit_intercept=True, class_weight='balanced', dual=False, C=0.1, max_iter=10000)\n",
    "\n",
    "    classifier.fit(debiased_x_train, train_labels)\n",
    "    debiased_score = classifier.score(debiased_x_dev, dev_labels)\n",
    "    \n",
    "    _, debiased_diffs = get_TPR(dev_labels, classifier.predict(debiased_x_dev), dev_private_labels)\n",
    "    \n",
    "    ratio_tradeoff[p_iteration]['debiased_diff_tpr'] = debiased_diffs['y:1']\n",
    "    ratio_tradeoff[p_iteration]['debiased_diff_tnr'] = debiased_diffs['y:0']\n",
    "    ratio_tradeoff[p_iteration]['debiased_acc'] = debiased_score"
   ]
  },
  {
   "cell_type": "code",
   "execution_count": 21,
   "metadata": {},
   "outputs": [
    {
     "output_type": "display_data",
     "data": {
      "text/plain": "<Figure size 432x288 with 1 Axes>",
      "image/svg+xml": "<?xml version=\"1.0\" encoding=\"utf-8\" standalone=\"no\"?>\r\n<!DOCTYPE svg PUBLIC \"-//W3C//DTD SVG 1.1//EN\"\r\n  \"http://www.w3.org/Graphics/SVG/1.1/DTD/svg11.dtd\">\r\n<!-- Created with matplotlib (https://matplotlib.org/) -->\r\n<svg height=\"280.15625pt\" version=\"1.1\" viewBox=\"0 0 424.775 280.15625\" width=\"424.775pt\" xmlns=\"http://www.w3.org/2000/svg\" xmlns:xlink=\"http://www.w3.org/1999/xlink\">\r\n <defs>\r\n  <style type=\"text/css\">\r\n*{stroke-linecap:butt;stroke-linejoin:round;}\r\n  </style>\r\n </defs>\r\n <g id=\"figure_1\">\r\n  <g id=\"patch_1\">\r\n   <path d=\"M 0 280.15625 \r\nL 424.775 280.15625 \r\nL 424.775 0 \r\nL 0 0 \r\nz\r\n\" style=\"fill:none;\"/>\r\n  </g>\r\n  <g id=\"axes_1\">\r\n   <g id=\"patch_2\">\r\n    <path d=\"M 26.925 242.6 \r\nL 417.575 242.6 \r\nL 417.575 7.2 \r\nL 26.925 7.2 \r\nz\r\n\" style=\"fill:#ffffff;\"/>\r\n   </g>\r\n   <g id=\"matplotlib.axis_1\">\r\n    <g id=\"xtick_1\">\r\n     <g id=\"line2d_1\">\r\n      <defs>\r\n       <path d=\"M 0 0 \r\nL 0 3.5 \r\n\" id=\"m234d81ed6d\" style=\"stroke:#000000;stroke-width:0.8;\"/>\r\n      </defs>\r\n      <g>\r\n       <use style=\"stroke:#000000;stroke-width:0.8;\" x=\"35.336124\" xlink:href=\"#m234d81ed6d\" y=\"242.6\"/>\r\n      </g>\r\n     </g>\r\n     <g id=\"text_1\">\r\n      <!-- 0 -->\r\n      <defs>\r\n       <path d=\"M 31.78125 66.40625 \r\nQ 24.171875 66.40625 20.328125 58.90625 \r\nQ 16.5 51.421875 16.5 36.375 \r\nQ 16.5 21.390625 20.328125 13.890625 \r\nQ 24.171875 6.390625 31.78125 6.390625 \r\nQ 39.453125 6.390625 43.28125 13.890625 \r\nQ 47.125 21.390625 47.125 36.375 \r\nQ 47.125 51.421875 43.28125 58.90625 \r\nQ 39.453125 66.40625 31.78125 66.40625 \r\nz\r\nM 31.78125 74.21875 \r\nQ 44.046875 74.21875 50.515625 64.515625 \r\nQ 56.984375 54.828125 56.984375 36.375 \r\nQ 56.984375 17.96875 50.515625 8.265625 \r\nQ 44.046875 -1.421875 31.78125 -1.421875 \r\nQ 19.53125 -1.421875 13.0625 8.265625 \r\nQ 6.59375 17.96875 6.59375 36.375 \r\nQ 6.59375 54.828125 13.0625 64.515625 \r\nQ 19.53125 74.21875 31.78125 74.21875 \r\nz\r\n\" id=\"DejaVuSans-48\"/>\r\n      </defs>\r\n      <g transform=\"translate(32.154874 257.198437)scale(0.1 -0.1)\">\r\n       <use xlink:href=\"#DejaVuSans-48\"/>\r\n      </g>\r\n     </g>\r\n    </g>\r\n    <g id=\"xtick_2\">\r\n     <g id=\"line2d_2\">\r\n      <g>\r\n       <use style=\"stroke:#000000;stroke-width:0.8;\" x=\"82.064593\" xlink:href=\"#m234d81ed6d\" y=\"242.6\"/>\r\n      </g>\r\n     </g>\r\n     <g id=\"text_2\">\r\n      <!-- 5 -->\r\n      <defs>\r\n       <path d=\"M 10.796875 72.90625 \r\nL 49.515625 72.90625 \r\nL 49.515625 64.59375 \r\nL 19.828125 64.59375 \r\nL 19.828125 46.734375 \r\nQ 21.96875 47.46875 24.109375 47.828125 \r\nQ 26.265625 48.1875 28.421875 48.1875 \r\nQ 40.625 48.1875 47.75 41.5 \r\nQ 54.890625 34.8125 54.890625 23.390625 \r\nQ 54.890625 11.625 47.5625 5.09375 \r\nQ 40.234375 -1.421875 26.90625 -1.421875 \r\nQ 22.3125 -1.421875 17.546875 -0.640625 \r\nQ 12.796875 0.140625 7.71875 1.703125 \r\nL 7.71875 11.625 \r\nQ 12.109375 9.234375 16.796875 8.0625 \r\nQ 21.484375 6.890625 26.703125 6.890625 \r\nQ 35.15625 6.890625 40.078125 11.328125 \r\nQ 45.015625 15.765625 45.015625 23.390625 \r\nQ 45.015625 31 40.078125 35.4375 \r\nQ 35.15625 39.890625 26.703125 39.890625 \r\nQ 22.75 39.890625 18.8125 39.015625 \r\nQ 14.890625 38.140625 10.796875 36.28125 \r\nz\r\n\" id=\"DejaVuSans-53\"/>\r\n      </defs>\r\n      <g transform=\"translate(78.883343 257.198437)scale(0.1 -0.1)\">\r\n       <use xlink:href=\"#DejaVuSans-53\"/>\r\n      </g>\r\n     </g>\r\n    </g>\r\n    <g id=\"xtick_3\">\r\n     <g id=\"line2d_3\">\r\n      <g>\r\n       <use style=\"stroke:#000000;stroke-width:0.8;\" x=\"128.793062\" xlink:href=\"#m234d81ed6d\" y=\"242.6\"/>\r\n      </g>\r\n     </g>\r\n     <g id=\"text_3\">\r\n      <!-- 10 -->\r\n      <defs>\r\n       <path d=\"M 12.40625 8.296875 \r\nL 28.515625 8.296875 \r\nL 28.515625 63.921875 \r\nL 10.984375 60.40625 \r\nL 10.984375 69.390625 \r\nL 28.421875 72.90625 \r\nL 38.28125 72.90625 \r\nL 38.28125 8.296875 \r\nL 54.390625 8.296875 \r\nL 54.390625 0 \r\nL 12.40625 0 \r\nz\r\n\" id=\"DejaVuSans-49\"/>\r\n      </defs>\r\n      <g transform=\"translate(122.430562 257.198437)scale(0.1 -0.1)\">\r\n       <use xlink:href=\"#DejaVuSans-49\"/>\r\n       <use x=\"63.623047\" xlink:href=\"#DejaVuSans-48\"/>\r\n      </g>\r\n     </g>\r\n    </g>\r\n    <g id=\"xtick_4\">\r\n     <g id=\"line2d_4\">\r\n      <g>\r\n       <use style=\"stroke:#000000;stroke-width:0.8;\" x=\"175.521531\" xlink:href=\"#m234d81ed6d\" y=\"242.6\"/>\r\n      </g>\r\n     </g>\r\n     <g id=\"text_4\">\r\n      <!-- 15 -->\r\n      <g transform=\"translate(169.159031 257.198437)scale(0.1 -0.1)\">\r\n       <use xlink:href=\"#DejaVuSans-49\"/>\r\n       <use x=\"63.623047\" xlink:href=\"#DejaVuSans-53\"/>\r\n      </g>\r\n     </g>\r\n    </g>\r\n    <g id=\"xtick_5\">\r\n     <g id=\"line2d_5\">\r\n      <g>\r\n       <use style=\"stroke:#000000;stroke-width:0.8;\" x=\"222.25\" xlink:href=\"#m234d81ed6d\" y=\"242.6\"/>\r\n      </g>\r\n     </g>\r\n     <g id=\"text_5\">\r\n      <!-- 20 -->\r\n      <defs>\r\n       <path d=\"M 19.1875 8.296875 \r\nL 53.609375 8.296875 \r\nL 53.609375 0 \r\nL 7.328125 0 \r\nL 7.328125 8.296875 \r\nQ 12.9375 14.109375 22.625 23.890625 \r\nQ 32.328125 33.6875 34.8125 36.53125 \r\nQ 39.546875 41.84375 41.421875 45.53125 \r\nQ 43.3125 49.21875 43.3125 52.78125 \r\nQ 43.3125 58.59375 39.234375 62.25 \r\nQ 35.15625 65.921875 28.609375 65.921875 \r\nQ 23.96875 65.921875 18.8125 64.3125 \r\nQ 13.671875 62.703125 7.8125 59.421875 \r\nL 7.8125 69.390625 \r\nQ 13.765625 71.78125 18.9375 73 \r\nQ 24.125 74.21875 28.421875 74.21875 \r\nQ 39.75 74.21875 46.484375 68.546875 \r\nQ 53.21875 62.890625 53.21875 53.421875 \r\nQ 53.21875 48.921875 51.53125 44.890625 \r\nQ 49.859375 40.875 45.40625 35.40625 \r\nQ 44.1875 33.984375 37.640625 27.21875 \r\nQ 31.109375 20.453125 19.1875 8.296875 \r\nz\r\n\" id=\"DejaVuSans-50\"/>\r\n      </defs>\r\n      <g transform=\"translate(215.8875 257.198437)scale(0.1 -0.1)\">\r\n       <use xlink:href=\"#DejaVuSans-50\"/>\r\n       <use x=\"63.623047\" xlink:href=\"#DejaVuSans-48\"/>\r\n      </g>\r\n     </g>\r\n    </g>\r\n    <g id=\"xtick_6\">\r\n     <g id=\"line2d_6\">\r\n      <g>\r\n       <use style=\"stroke:#000000;stroke-width:0.8;\" x=\"268.978469\" xlink:href=\"#m234d81ed6d\" y=\"242.6\"/>\r\n      </g>\r\n     </g>\r\n     <g id=\"text_6\">\r\n      <!-- 25 -->\r\n      <g transform=\"translate(262.615969 257.198437)scale(0.1 -0.1)\">\r\n       <use xlink:href=\"#DejaVuSans-50\"/>\r\n       <use x=\"63.623047\" xlink:href=\"#DejaVuSans-53\"/>\r\n      </g>\r\n     </g>\r\n    </g>\r\n    <g id=\"xtick_7\">\r\n     <g id=\"line2d_7\">\r\n      <g>\r\n       <use style=\"stroke:#000000;stroke-width:0.8;\" x=\"315.706938\" xlink:href=\"#m234d81ed6d\" y=\"242.6\"/>\r\n      </g>\r\n     </g>\r\n     <g id=\"text_7\">\r\n      <!-- 30 -->\r\n      <defs>\r\n       <path d=\"M 40.578125 39.3125 \r\nQ 47.65625 37.796875 51.625 33 \r\nQ 55.609375 28.21875 55.609375 21.1875 \r\nQ 55.609375 10.40625 48.1875 4.484375 \r\nQ 40.765625 -1.421875 27.09375 -1.421875 \r\nQ 22.515625 -1.421875 17.65625 -0.515625 \r\nQ 12.796875 0.390625 7.625 2.203125 \r\nL 7.625 11.71875 \r\nQ 11.71875 9.328125 16.59375 8.109375 \r\nQ 21.484375 6.890625 26.8125 6.890625 \r\nQ 36.078125 6.890625 40.9375 10.546875 \r\nQ 45.796875 14.203125 45.796875 21.1875 \r\nQ 45.796875 27.640625 41.28125 31.265625 \r\nQ 36.765625 34.90625 28.71875 34.90625 \r\nL 20.21875 34.90625 \r\nL 20.21875 43.015625 \r\nL 29.109375 43.015625 \r\nQ 36.375 43.015625 40.234375 45.921875 \r\nQ 44.09375 48.828125 44.09375 54.296875 \r\nQ 44.09375 59.90625 40.109375 62.90625 \r\nQ 36.140625 65.921875 28.71875 65.921875 \r\nQ 24.65625 65.921875 20.015625 65.03125 \r\nQ 15.375 64.15625 9.8125 62.3125 \r\nL 9.8125 71.09375 \r\nQ 15.4375 72.65625 20.34375 73.4375 \r\nQ 25.25 74.21875 29.59375 74.21875 \r\nQ 40.828125 74.21875 47.359375 69.109375 \r\nQ 53.90625 64.015625 53.90625 55.328125 \r\nQ 53.90625 49.265625 50.4375 45.09375 \r\nQ 46.96875 40.921875 40.578125 39.3125 \r\nz\r\n\" id=\"DejaVuSans-51\"/>\r\n      </defs>\r\n      <g transform=\"translate(309.344438 257.198437)scale(0.1 -0.1)\">\r\n       <use xlink:href=\"#DejaVuSans-51\"/>\r\n       <use x=\"63.623047\" xlink:href=\"#DejaVuSans-48\"/>\r\n      </g>\r\n     </g>\r\n    </g>\r\n    <g id=\"xtick_8\">\r\n     <g id=\"line2d_8\">\r\n      <g>\r\n       <use style=\"stroke:#000000;stroke-width:0.8;\" x=\"362.435407\" xlink:href=\"#m234d81ed6d\" y=\"242.6\"/>\r\n      </g>\r\n     </g>\r\n     <g id=\"text_8\">\r\n      <!-- 35 -->\r\n      <g transform=\"translate(356.072907 257.198437)scale(0.1 -0.1)\">\r\n       <use xlink:href=\"#DejaVuSans-51\"/>\r\n       <use x=\"63.623047\" xlink:href=\"#DejaVuSans-53\"/>\r\n      </g>\r\n     </g>\r\n    </g>\r\n    <g id=\"xtick_9\">\r\n     <g id=\"line2d_9\">\r\n      <g>\r\n       <use style=\"stroke:#000000;stroke-width:0.8;\" x=\"409.163876\" xlink:href=\"#m234d81ed6d\" y=\"242.6\"/>\r\n      </g>\r\n     </g>\r\n     <g id=\"text_9\">\r\n      <!-- 40 -->\r\n      <defs>\r\n       <path d=\"M 37.796875 64.3125 \r\nL 12.890625 25.390625 \r\nL 37.796875 25.390625 \r\nz\r\nM 35.203125 72.90625 \r\nL 47.609375 72.90625 \r\nL 47.609375 25.390625 \r\nL 58.015625 25.390625 \r\nL 58.015625 17.1875 \r\nL 47.609375 17.1875 \r\nL 47.609375 0 \r\nL 37.796875 0 \r\nL 37.796875 17.1875 \r\nL 4.890625 17.1875 \r\nL 4.890625 26.703125 \r\nz\r\n\" id=\"DejaVuSans-52\"/>\r\n      </defs>\r\n      <g transform=\"translate(402.801376 257.198437)scale(0.1 -0.1)\">\r\n       <use xlink:href=\"#DejaVuSans-52\"/>\r\n       <use x=\"63.623047\" xlink:href=\"#DejaVuSans-48\"/>\r\n      </g>\r\n     </g>\r\n    </g>\r\n    <g id=\"text_10\">\r\n     <!-- P iter -->\r\n     <defs>\r\n      <path d=\"M 19.671875 64.796875 \r\nL 19.671875 37.40625 \r\nL 32.078125 37.40625 \r\nQ 38.96875 37.40625 42.71875 40.96875 \r\nQ 46.484375 44.53125 46.484375 51.125 \r\nQ 46.484375 57.671875 42.71875 61.234375 \r\nQ 38.96875 64.796875 32.078125 64.796875 \r\nz\r\nM 9.8125 72.90625 \r\nL 32.078125 72.90625 \r\nQ 44.34375 72.90625 50.609375 67.359375 \r\nQ 56.890625 61.8125 56.890625 51.125 \r\nQ 56.890625 40.328125 50.609375 34.8125 \r\nQ 44.34375 29.296875 32.078125 29.296875 \r\nL 19.671875 29.296875 \r\nL 19.671875 0 \r\nL 9.8125 0 \r\nz\r\n\" id=\"DejaVuSans-80\"/>\r\n      <path id=\"DejaVuSans-32\"/>\r\n      <path d=\"M 9.421875 54.6875 \r\nL 18.40625 54.6875 \r\nL 18.40625 0 \r\nL 9.421875 0 \r\nz\r\nM 9.421875 75.984375 \r\nL 18.40625 75.984375 \r\nL 18.40625 64.59375 \r\nL 9.421875 64.59375 \r\nz\r\n\" id=\"DejaVuSans-105\"/>\r\n      <path d=\"M 18.3125 70.21875 \r\nL 18.3125 54.6875 \r\nL 36.8125 54.6875 \r\nL 36.8125 47.703125 \r\nL 18.3125 47.703125 \r\nL 18.3125 18.015625 \r\nQ 18.3125 11.328125 20.140625 9.421875 \r\nQ 21.96875 7.515625 27.59375 7.515625 \r\nL 36.8125 7.515625 \r\nL 36.8125 0 \r\nL 27.59375 0 \r\nQ 17.1875 0 13.234375 3.875 \r\nQ 9.28125 7.765625 9.28125 18.015625 \r\nL 9.28125 47.703125 \r\nL 2.6875 47.703125 \r\nL 2.6875 54.6875 \r\nL 9.28125 54.6875 \r\nL 9.28125 70.21875 \r\nz\r\n\" id=\"DejaVuSans-116\"/>\r\n      <path d=\"M 56.203125 29.59375 \r\nL 56.203125 25.203125 \r\nL 14.890625 25.203125 \r\nQ 15.484375 15.921875 20.484375 11.0625 \r\nQ 25.484375 6.203125 34.421875 6.203125 \r\nQ 39.59375 6.203125 44.453125 7.46875 \r\nQ 49.3125 8.734375 54.109375 11.28125 \r\nL 54.109375 2.78125 \r\nQ 49.265625 0.734375 44.1875 -0.34375 \r\nQ 39.109375 -1.421875 33.890625 -1.421875 \r\nQ 20.796875 -1.421875 13.15625 6.1875 \r\nQ 5.515625 13.8125 5.515625 26.8125 \r\nQ 5.515625 40.234375 12.765625 48.109375 \r\nQ 20.015625 56 32.328125 56 \r\nQ 43.359375 56 49.78125 48.890625 \r\nQ 56.203125 41.796875 56.203125 29.59375 \r\nz\r\nM 47.21875 32.234375 \r\nQ 47.125 39.59375 43.09375 43.984375 \r\nQ 39.0625 48.390625 32.421875 48.390625 \r\nQ 24.90625 48.390625 20.390625 44.140625 \r\nQ 15.875 39.890625 15.1875 32.171875 \r\nz\r\n\" id=\"DejaVuSans-101\"/>\r\n      <path d=\"M 41.109375 46.296875 \r\nQ 39.59375 47.171875 37.8125 47.578125 \r\nQ 36.03125 48 33.890625 48 \r\nQ 26.265625 48 22.1875 43.046875 \r\nQ 18.109375 38.09375 18.109375 28.8125 \r\nL 18.109375 0 \r\nL 9.078125 0 \r\nL 9.078125 54.6875 \r\nL 18.109375 54.6875 \r\nL 18.109375 46.1875 \r\nQ 20.953125 51.171875 25.484375 53.578125 \r\nQ 30.03125 56 36.53125 56 \r\nQ 37.453125 56 38.578125 55.875 \r\nQ 39.703125 55.765625 41.0625 55.515625 \r\nz\r\n\" id=\"DejaVuSans-114\"/>\r\n     </defs>\r\n     <g transform=\"translate(209.164844 270.876562)scale(0.1 -0.1)\">\r\n      <use xlink:href=\"#DejaVuSans-80\"/>\r\n      <use x=\"60.302734\" xlink:href=\"#DejaVuSans-32\"/>\r\n      <use x=\"92.089844\" xlink:href=\"#DejaVuSans-105\"/>\r\n      <use x=\"119.873047\" xlink:href=\"#DejaVuSans-116\"/>\r\n      <use x=\"159.082031\" xlink:href=\"#DejaVuSans-101\"/>\r\n      <use x=\"220.605469\" xlink:href=\"#DejaVuSans-114\"/>\r\n     </g>\r\n    </g>\r\n   </g>\r\n   <g id=\"matplotlib.axis_2\">\r\n    <g id=\"ytick_1\">\r\n     <g id=\"line2d_10\">\r\n      <defs>\r\n       <path d=\"M 0 0 \r\nL -3.5 0 \r\n\" id=\"mc3bff07410\" style=\"stroke:#000000;stroke-width:0.8;\"/>\r\n      </defs>\r\n      <g>\r\n       <use style=\"stroke:#000000;stroke-width:0.8;\" x=\"26.925\" xlink:href=\"#mc3bff07410\" y=\"232.791357\"/>\r\n      </g>\r\n     </g>\r\n     <g id=\"text_11\">\r\n      <!-- 0 -->\r\n      <g transform=\"translate(13.5625 236.590576)scale(0.1 -0.1)\">\r\n       <use xlink:href=\"#DejaVuSans-48\"/>\r\n      </g>\r\n     </g>\r\n    </g>\r\n    <g id=\"ytick_2\">\r\n     <g id=\"line2d_11\">\r\n      <g>\r\n       <use style=\"stroke:#000000;stroke-width:0.8;\" x=\"26.925\" xlink:href=\"#mc3bff07410\" y=\"203.079452\"/>\r\n      </g>\r\n     </g>\r\n     <g id=\"text_12\">\r\n      <!-- 10 -->\r\n      <g transform=\"translate(7.2 206.87867)scale(0.1 -0.1)\">\r\n       <use xlink:href=\"#DejaVuSans-49\"/>\r\n       <use x=\"63.623047\" xlink:href=\"#DejaVuSans-48\"/>\r\n      </g>\r\n     </g>\r\n    </g>\r\n    <g id=\"ytick_3\">\r\n     <g id=\"line2d_12\">\r\n      <g>\r\n       <use style=\"stroke:#000000;stroke-width:0.8;\" x=\"26.925\" xlink:href=\"#mc3bff07410\" y=\"173.367546\"/>\r\n      </g>\r\n     </g>\r\n     <g id=\"text_13\">\r\n      <!-- 20 -->\r\n      <g transform=\"translate(7.2 177.166765)scale(0.1 -0.1)\">\r\n       <use xlink:href=\"#DejaVuSans-50\"/>\r\n       <use x=\"63.623047\" xlink:href=\"#DejaVuSans-48\"/>\r\n      </g>\r\n     </g>\r\n    </g>\r\n    <g id=\"ytick_4\">\r\n     <g id=\"line2d_13\">\r\n      <g>\r\n       <use style=\"stroke:#000000;stroke-width:0.8;\" x=\"26.925\" xlink:href=\"#mc3bff07410\" y=\"143.65564\"/>\r\n      </g>\r\n     </g>\r\n     <g id=\"text_14\">\r\n      <!-- 30 -->\r\n      <g transform=\"translate(7.2 147.454859)scale(0.1 -0.1)\">\r\n       <use xlink:href=\"#DejaVuSans-51\"/>\r\n       <use x=\"63.623047\" xlink:href=\"#DejaVuSans-48\"/>\r\n      </g>\r\n     </g>\r\n    </g>\r\n    <g id=\"ytick_5\">\r\n     <g id=\"line2d_14\">\r\n      <g>\r\n       <use style=\"stroke:#000000;stroke-width:0.8;\" x=\"26.925\" xlink:href=\"#mc3bff07410\" y=\"113.943735\"/>\r\n      </g>\r\n     </g>\r\n     <g id=\"text_15\">\r\n      <!-- 40 -->\r\n      <g transform=\"translate(7.2 117.742954)scale(0.1 -0.1)\">\r\n       <use xlink:href=\"#DejaVuSans-52\"/>\r\n       <use x=\"63.623047\" xlink:href=\"#DejaVuSans-48\"/>\r\n      </g>\r\n     </g>\r\n    </g>\r\n    <g id=\"ytick_6\">\r\n     <g id=\"line2d_15\">\r\n      <g>\r\n       <use style=\"stroke:#000000;stroke-width:0.8;\" x=\"26.925\" xlink:href=\"#mc3bff07410\" y=\"84.231829\"/>\r\n      </g>\r\n     </g>\r\n     <g id=\"text_16\">\r\n      <!-- 50 -->\r\n      <g transform=\"translate(7.2 88.031048)scale(0.1 -0.1)\">\r\n       <use xlink:href=\"#DejaVuSans-53\"/>\r\n       <use x=\"63.623047\" xlink:href=\"#DejaVuSans-48\"/>\r\n      </g>\r\n     </g>\r\n    </g>\r\n    <g id=\"ytick_7\">\r\n     <g id=\"line2d_16\">\r\n      <g>\r\n       <use style=\"stroke:#000000;stroke-width:0.8;\" x=\"26.925\" xlink:href=\"#mc3bff07410\" y=\"54.519924\"/>\r\n      </g>\r\n     </g>\r\n     <g id=\"text_17\">\r\n      <!-- 60 -->\r\n      <defs>\r\n       <path d=\"M 33.015625 40.375 \r\nQ 26.375 40.375 22.484375 35.828125 \r\nQ 18.609375 31.296875 18.609375 23.390625 \r\nQ 18.609375 15.53125 22.484375 10.953125 \r\nQ 26.375 6.390625 33.015625 6.390625 \r\nQ 39.65625 6.390625 43.53125 10.953125 \r\nQ 47.40625 15.53125 47.40625 23.390625 \r\nQ 47.40625 31.296875 43.53125 35.828125 \r\nQ 39.65625 40.375 33.015625 40.375 \r\nz\r\nM 52.59375 71.296875 \r\nL 52.59375 62.3125 \r\nQ 48.875 64.0625 45.09375 64.984375 \r\nQ 41.3125 65.921875 37.59375 65.921875 \r\nQ 27.828125 65.921875 22.671875 59.328125 \r\nQ 17.53125 52.734375 16.796875 39.40625 \r\nQ 19.671875 43.65625 24.015625 45.921875 \r\nQ 28.375 48.1875 33.59375 48.1875 \r\nQ 44.578125 48.1875 50.953125 41.515625 \r\nQ 57.328125 34.859375 57.328125 23.390625 \r\nQ 57.328125 12.15625 50.6875 5.359375 \r\nQ 44.046875 -1.421875 33.015625 -1.421875 \r\nQ 20.359375 -1.421875 13.671875 8.265625 \r\nQ 6.984375 17.96875 6.984375 36.375 \r\nQ 6.984375 53.65625 15.1875 63.9375 \r\nQ 23.390625 74.21875 37.203125 74.21875 \r\nQ 40.921875 74.21875 44.703125 73.484375 \r\nQ 48.484375 72.75 52.59375 71.296875 \r\nz\r\n\" id=\"DejaVuSans-54\"/>\r\n      </defs>\r\n      <g transform=\"translate(7.2 58.319142)scale(0.1 -0.1)\">\r\n       <use xlink:href=\"#DejaVuSans-54\"/>\r\n       <use x=\"63.623047\" xlink:href=\"#DejaVuSans-48\"/>\r\n      </g>\r\n     </g>\r\n    </g>\r\n    <g id=\"ytick_8\">\r\n     <g id=\"line2d_17\">\r\n      <g>\r\n       <use style=\"stroke:#000000;stroke-width:0.8;\" x=\"26.925\" xlink:href=\"#mc3bff07410\" y=\"24.808018\"/>\r\n      </g>\r\n     </g>\r\n     <g id=\"text_18\">\r\n      <!-- 70 -->\r\n      <defs>\r\n       <path d=\"M 8.203125 72.90625 \r\nL 55.078125 72.90625 \r\nL 55.078125 68.703125 \r\nL 28.609375 0 \r\nL 18.3125 0 \r\nL 43.21875 64.59375 \r\nL 8.203125 64.59375 \r\nz\r\n\" id=\"DejaVuSans-55\"/>\r\n      </defs>\r\n      <g transform=\"translate(7.2 28.607237)scale(0.1 -0.1)\">\r\n       <use xlink:href=\"#DejaVuSans-55\"/>\r\n       <use x=\"63.623047\" xlink:href=\"#DejaVuSans-48\"/>\r\n      </g>\r\n     </g>\r\n    </g>\r\n   </g>\r\n   <g id=\"line2d_18\">\r\n    <path clip-path=\"url(#p49b13b3743)\" d=\"M 44.681818 147.369629 \r\nL 54.027512 148.112426 \r\nL 63.373206 147.369629 \r\nL 72.7189 147.518188 \r\nL 82.064593 147.369629 \r\nL 91.410287 147.369629 \r\nL 100.755981 147.369629 \r\nL 110.101675 147.518188 \r\nL 119.447368 147.518188 \r\nL 128.793062 147.369629 \r\nL 138.138756 147.369629 \r\nL 147.48445 147.518188 \r\nL 156.830144 147.07251 \r\nL 166.175837 147.518188 \r\nL 175.521531 147.666748 \r\nL 184.867225 147.518188 \r\nL 194.212919 147.221069 \r\nL 203.558612 147.518188 \r\nL 212.904306 148.855224 \r\nL 222.25 148.558105 \r\nL 231.595694 149.152343 \r\nL 240.941388 148.260986 \r\nL 250.287081 147.221069 \r\nL 259.632775 147.369629 \r\nL 268.978469 147.07251 \r\nL 278.324163 148.409545 \r\nL 287.669856 161.631343 \r\nL 297.01555 176.041617 \r\nL 306.361244 211.993023 \r\nL 315.706938 226.254738 \r\nL 325.052632 231.9 \r\nL 334.398325 231.305762 \r\nL 343.744019 231.454321 \r\nL 353.089713 226.997536 \r\nL 362.435407 230.562964 \r\nL 371.7811 230.562964 \r\nL 381.126794 231.008643 \r\nL 390.472488 228.78025 \r\nL 399.818182 228.037452 \r\n\" style=\"fill:none;stroke:#1f77b4;stroke-dasharray:5.55,2.4;stroke-dashoffset:0;stroke-width:1.5;\"/>\r\n    <defs>\r\n     <path d=\"M 0 1.5 \r\nC 0.397805 1.5 0.77937 1.341951 1.06066 1.06066 \r\nC 1.341951 0.77937 1.5 0.397805 1.5 0 \r\nC 1.5 -0.397805 1.341951 -0.77937 1.06066 -1.06066 \r\nC 0.77937 -1.341951 0.397805 -1.5 0 -1.5 \r\nC -0.397805 -1.5 -0.77937 -1.341951 -1.06066 -1.06066 \r\nC -1.341951 -0.77937 -1.5 -0.397805 -1.5 0 \r\nC -1.5 0.397805 -1.341951 0.77937 -1.06066 1.06066 \r\nC -0.77937 1.341951 -0.397805 1.5 0 1.5 \r\nz\r\n\" id=\"m2143f2415a\" style=\"stroke:#1f77b4;\"/>\r\n    </defs>\r\n    <g clip-path=\"url(#p49b13b3743)\">\r\n     <use style=\"fill:#1f77b4;stroke:#1f77b4;\" x=\"44.681818\" xlink:href=\"#m2143f2415a\" y=\"147.369629\"/>\r\n     <use style=\"fill:#1f77b4;stroke:#1f77b4;\" x=\"54.027512\" xlink:href=\"#m2143f2415a\" y=\"148.112426\"/>\r\n     <use style=\"fill:#1f77b4;stroke:#1f77b4;\" x=\"63.373206\" xlink:href=\"#m2143f2415a\" y=\"147.369629\"/>\r\n     <use style=\"fill:#1f77b4;stroke:#1f77b4;\" x=\"72.7189\" xlink:href=\"#m2143f2415a\" y=\"147.518188\"/>\r\n     <use style=\"fill:#1f77b4;stroke:#1f77b4;\" x=\"82.064593\" xlink:href=\"#m2143f2415a\" y=\"147.369629\"/>\r\n     <use style=\"fill:#1f77b4;stroke:#1f77b4;\" x=\"91.410287\" xlink:href=\"#m2143f2415a\" y=\"147.369629\"/>\r\n     <use style=\"fill:#1f77b4;stroke:#1f77b4;\" x=\"100.755981\" xlink:href=\"#m2143f2415a\" y=\"147.369629\"/>\r\n     <use style=\"fill:#1f77b4;stroke:#1f77b4;\" x=\"110.101675\" xlink:href=\"#m2143f2415a\" y=\"147.518188\"/>\r\n     <use style=\"fill:#1f77b4;stroke:#1f77b4;\" x=\"119.447368\" xlink:href=\"#m2143f2415a\" y=\"147.518188\"/>\r\n     <use style=\"fill:#1f77b4;stroke:#1f77b4;\" x=\"128.793062\" xlink:href=\"#m2143f2415a\" y=\"147.369629\"/>\r\n     <use style=\"fill:#1f77b4;stroke:#1f77b4;\" x=\"138.138756\" xlink:href=\"#m2143f2415a\" y=\"147.369629\"/>\r\n     <use style=\"fill:#1f77b4;stroke:#1f77b4;\" x=\"147.48445\" xlink:href=\"#m2143f2415a\" y=\"147.518188\"/>\r\n     <use style=\"fill:#1f77b4;stroke:#1f77b4;\" x=\"156.830144\" xlink:href=\"#m2143f2415a\" y=\"147.07251\"/>\r\n     <use style=\"fill:#1f77b4;stroke:#1f77b4;\" x=\"166.175837\" xlink:href=\"#m2143f2415a\" y=\"147.518188\"/>\r\n     <use style=\"fill:#1f77b4;stroke:#1f77b4;\" x=\"175.521531\" xlink:href=\"#m2143f2415a\" y=\"147.666748\"/>\r\n     <use style=\"fill:#1f77b4;stroke:#1f77b4;\" x=\"184.867225\" xlink:href=\"#m2143f2415a\" y=\"147.518188\"/>\r\n     <use style=\"fill:#1f77b4;stroke:#1f77b4;\" x=\"194.212919\" xlink:href=\"#m2143f2415a\" y=\"147.221069\"/>\r\n     <use style=\"fill:#1f77b4;stroke:#1f77b4;\" x=\"203.558612\" xlink:href=\"#m2143f2415a\" y=\"147.518188\"/>\r\n     <use style=\"fill:#1f77b4;stroke:#1f77b4;\" x=\"212.904306\" xlink:href=\"#m2143f2415a\" y=\"148.855224\"/>\r\n     <use style=\"fill:#1f77b4;stroke:#1f77b4;\" x=\"222.25\" xlink:href=\"#m2143f2415a\" y=\"148.558105\"/>\r\n     <use style=\"fill:#1f77b4;stroke:#1f77b4;\" x=\"231.595694\" xlink:href=\"#m2143f2415a\" y=\"149.152343\"/>\r\n     <use style=\"fill:#1f77b4;stroke:#1f77b4;\" x=\"240.941388\" xlink:href=\"#m2143f2415a\" y=\"148.260986\"/>\r\n     <use style=\"fill:#1f77b4;stroke:#1f77b4;\" x=\"250.287081\" xlink:href=\"#m2143f2415a\" y=\"147.221069\"/>\r\n     <use style=\"fill:#1f77b4;stroke:#1f77b4;\" x=\"259.632775\" xlink:href=\"#m2143f2415a\" y=\"147.369629\"/>\r\n     <use style=\"fill:#1f77b4;stroke:#1f77b4;\" x=\"268.978469\" xlink:href=\"#m2143f2415a\" y=\"147.07251\"/>\r\n     <use style=\"fill:#1f77b4;stroke:#1f77b4;\" x=\"278.324163\" xlink:href=\"#m2143f2415a\" y=\"148.409545\"/>\r\n     <use style=\"fill:#1f77b4;stroke:#1f77b4;\" x=\"287.669856\" xlink:href=\"#m2143f2415a\" y=\"161.631343\"/>\r\n     <use style=\"fill:#1f77b4;stroke:#1f77b4;\" x=\"297.01555\" xlink:href=\"#m2143f2415a\" y=\"176.041617\"/>\r\n     <use style=\"fill:#1f77b4;stroke:#1f77b4;\" x=\"306.361244\" xlink:href=\"#m2143f2415a\" y=\"211.993023\"/>\r\n     <use style=\"fill:#1f77b4;stroke:#1f77b4;\" x=\"315.706938\" xlink:href=\"#m2143f2415a\" y=\"226.254738\"/>\r\n     <use style=\"fill:#1f77b4;stroke:#1f77b4;\" x=\"325.052632\" xlink:href=\"#m2143f2415a\" y=\"231.9\"/>\r\n     <use style=\"fill:#1f77b4;stroke:#1f77b4;\" x=\"334.398325\" xlink:href=\"#m2143f2415a\" y=\"231.305762\"/>\r\n     <use style=\"fill:#1f77b4;stroke:#1f77b4;\" x=\"343.744019\" xlink:href=\"#m2143f2415a\" y=\"231.454321\"/>\r\n     <use style=\"fill:#1f77b4;stroke:#1f77b4;\" x=\"353.089713\" xlink:href=\"#m2143f2415a\" y=\"226.997536\"/>\r\n     <use style=\"fill:#1f77b4;stroke:#1f77b4;\" x=\"362.435407\" xlink:href=\"#m2143f2415a\" y=\"230.562964\"/>\r\n     <use style=\"fill:#1f77b4;stroke:#1f77b4;\" x=\"371.7811\" xlink:href=\"#m2143f2415a\" y=\"230.562964\"/>\r\n     <use style=\"fill:#1f77b4;stroke:#1f77b4;\" x=\"381.126794\" xlink:href=\"#m2143f2415a\" y=\"231.008643\"/>\r\n     <use style=\"fill:#1f77b4;stroke:#1f77b4;\" x=\"390.472488\" xlink:href=\"#m2143f2415a\" y=\"228.78025\"/>\r\n     <use style=\"fill:#1f77b4;stroke:#1f77b4;\" x=\"399.818182\" xlink:href=\"#m2143f2415a\" y=\"228.037452\"/>\r\n    </g>\r\n   </g>\r\n   <g id=\"line2d_19\">\r\n    <path clip-path=\"url(#p49b13b3743)\" d=\"M 44.681818 92.105484 \r\nL 54.027512 93.888199 \r\nL 63.373206 93.29396 \r\nL 72.7189 93.145401 \r\nL 82.064593 93.29396 \r\nL 91.410287 93.44252 \r\nL 100.755981 93.29396 \r\nL 110.101675 93.888199 \r\nL 119.447368 93.29396 \r\nL 128.793062 93.29396 \r\nL 138.138756 92.996841 \r\nL 147.48445 93.145401 \r\nL 156.830144 93.29396 \r\nL 166.175837 92.996841 \r\nL 175.521531 92.996841 \r\nL 184.867225 93.739639 \r\nL 194.212919 94.036758 \r\nL 203.558612 94.333877 \r\nL 212.904306 94.928115 \r\nL 222.25 95.670913 \r\nL 231.595694 95.670913 \r\nL 240.941388 95.225234 \r\nL 250.287081 95.819472 \r\nL 259.632775 96.265151 \r\nL 268.978469 99.384901 \r\nL 278.324163 98.939222 \r\nL 287.669856 98.196425 \r\nL 297.01555 125.085699 \r\nL 306.361244 129.393926 \r\nL 315.706938 127.90833 \r\nL 325.052632 131.028081 \r\nL 334.398325 130.582402 \r\nL 343.744019 130.433842 \r\nL 353.089713 176.041617 \r\nL 362.435407 196.691392 \r\nL 371.7811 205.604964 \r\nL 381.126794 219.27244 \r\nL 390.472488 222.837869 \r\nL 399.818182 221.352274 \r\n\" style=\"fill:none;stroke:#ff7f0e;stroke-dasharray:5.55,2.4;stroke-dashoffset:0;stroke-width:1.5;\"/>\r\n    <defs>\r\n     <path d=\"M 0 1.5 \r\nC 0.397805 1.5 0.77937 1.341951 1.06066 1.06066 \r\nC 1.341951 0.77937 1.5 0.397805 1.5 0 \r\nC 1.5 -0.397805 1.341951 -0.77937 1.06066 -1.06066 \r\nC 0.77937 -1.341951 0.397805 -1.5 0 -1.5 \r\nC -0.397805 -1.5 -0.77937 -1.341951 -1.06066 -1.06066 \r\nC -1.341951 -0.77937 -1.5 -0.397805 -1.5 0 \r\nC -1.5 0.397805 -1.341951 0.77937 -1.06066 1.06066 \r\nC -0.77937 1.341951 -0.397805 1.5 0 1.5 \r\nz\r\n\" id=\"m25e0252169\" style=\"stroke:#ff7f0e;\"/>\r\n    </defs>\r\n    <g clip-path=\"url(#p49b13b3743)\">\r\n     <use style=\"fill:#ff7f0e;stroke:#ff7f0e;\" x=\"44.681818\" xlink:href=\"#m25e0252169\" y=\"92.105484\"/>\r\n     <use style=\"fill:#ff7f0e;stroke:#ff7f0e;\" x=\"54.027512\" xlink:href=\"#m25e0252169\" y=\"93.888199\"/>\r\n     <use style=\"fill:#ff7f0e;stroke:#ff7f0e;\" x=\"63.373206\" xlink:href=\"#m25e0252169\" y=\"93.29396\"/>\r\n     <use style=\"fill:#ff7f0e;stroke:#ff7f0e;\" x=\"72.7189\" xlink:href=\"#m25e0252169\" y=\"93.145401\"/>\r\n     <use style=\"fill:#ff7f0e;stroke:#ff7f0e;\" x=\"82.064593\" xlink:href=\"#m25e0252169\" y=\"93.29396\"/>\r\n     <use style=\"fill:#ff7f0e;stroke:#ff7f0e;\" x=\"91.410287\" xlink:href=\"#m25e0252169\" y=\"93.44252\"/>\r\n     <use style=\"fill:#ff7f0e;stroke:#ff7f0e;\" x=\"100.755981\" xlink:href=\"#m25e0252169\" y=\"93.29396\"/>\r\n     <use style=\"fill:#ff7f0e;stroke:#ff7f0e;\" x=\"110.101675\" xlink:href=\"#m25e0252169\" y=\"93.888199\"/>\r\n     <use style=\"fill:#ff7f0e;stroke:#ff7f0e;\" x=\"119.447368\" xlink:href=\"#m25e0252169\" y=\"93.29396\"/>\r\n     <use style=\"fill:#ff7f0e;stroke:#ff7f0e;\" x=\"128.793062\" xlink:href=\"#m25e0252169\" y=\"93.29396\"/>\r\n     <use style=\"fill:#ff7f0e;stroke:#ff7f0e;\" x=\"138.138756\" xlink:href=\"#m25e0252169\" y=\"92.996841\"/>\r\n     <use style=\"fill:#ff7f0e;stroke:#ff7f0e;\" x=\"147.48445\" xlink:href=\"#m25e0252169\" y=\"93.145401\"/>\r\n     <use style=\"fill:#ff7f0e;stroke:#ff7f0e;\" x=\"156.830144\" xlink:href=\"#m25e0252169\" y=\"93.29396\"/>\r\n     <use style=\"fill:#ff7f0e;stroke:#ff7f0e;\" x=\"166.175837\" xlink:href=\"#m25e0252169\" y=\"92.996841\"/>\r\n     <use style=\"fill:#ff7f0e;stroke:#ff7f0e;\" x=\"175.521531\" xlink:href=\"#m25e0252169\" y=\"92.996841\"/>\r\n     <use style=\"fill:#ff7f0e;stroke:#ff7f0e;\" x=\"184.867225\" xlink:href=\"#m25e0252169\" y=\"93.739639\"/>\r\n     <use style=\"fill:#ff7f0e;stroke:#ff7f0e;\" x=\"194.212919\" xlink:href=\"#m25e0252169\" y=\"94.036758\"/>\r\n     <use style=\"fill:#ff7f0e;stroke:#ff7f0e;\" x=\"203.558612\" xlink:href=\"#m25e0252169\" y=\"94.333877\"/>\r\n     <use style=\"fill:#ff7f0e;stroke:#ff7f0e;\" x=\"212.904306\" xlink:href=\"#m25e0252169\" y=\"94.928115\"/>\r\n     <use style=\"fill:#ff7f0e;stroke:#ff7f0e;\" x=\"222.25\" xlink:href=\"#m25e0252169\" y=\"95.670913\"/>\r\n     <use style=\"fill:#ff7f0e;stroke:#ff7f0e;\" x=\"231.595694\" xlink:href=\"#m25e0252169\" y=\"95.670913\"/>\r\n     <use style=\"fill:#ff7f0e;stroke:#ff7f0e;\" x=\"240.941388\" xlink:href=\"#m25e0252169\" y=\"95.225234\"/>\r\n     <use style=\"fill:#ff7f0e;stroke:#ff7f0e;\" x=\"250.287081\" xlink:href=\"#m25e0252169\" y=\"95.819472\"/>\r\n     <use style=\"fill:#ff7f0e;stroke:#ff7f0e;\" x=\"259.632775\" xlink:href=\"#m25e0252169\" y=\"96.265151\"/>\r\n     <use style=\"fill:#ff7f0e;stroke:#ff7f0e;\" x=\"268.978469\" xlink:href=\"#m25e0252169\" y=\"99.384901\"/>\r\n     <use style=\"fill:#ff7f0e;stroke:#ff7f0e;\" x=\"278.324163\" xlink:href=\"#m25e0252169\" y=\"98.939222\"/>\r\n     <use style=\"fill:#ff7f0e;stroke:#ff7f0e;\" x=\"287.669856\" xlink:href=\"#m25e0252169\" y=\"98.196425\"/>\r\n     <use style=\"fill:#ff7f0e;stroke:#ff7f0e;\" x=\"297.01555\" xlink:href=\"#m25e0252169\" y=\"125.085699\"/>\r\n     <use style=\"fill:#ff7f0e;stroke:#ff7f0e;\" x=\"306.361244\" xlink:href=\"#m25e0252169\" y=\"129.393926\"/>\r\n     <use style=\"fill:#ff7f0e;stroke:#ff7f0e;\" x=\"315.706938\" xlink:href=\"#m25e0252169\" y=\"127.90833\"/>\r\n     <use style=\"fill:#ff7f0e;stroke:#ff7f0e;\" x=\"325.052632\" xlink:href=\"#m25e0252169\" y=\"131.028081\"/>\r\n     <use style=\"fill:#ff7f0e;stroke:#ff7f0e;\" x=\"334.398325\" xlink:href=\"#m25e0252169\" y=\"130.582402\"/>\r\n     <use style=\"fill:#ff7f0e;stroke:#ff7f0e;\" x=\"343.744019\" xlink:href=\"#m25e0252169\" y=\"130.433842\"/>\r\n     <use style=\"fill:#ff7f0e;stroke:#ff7f0e;\" x=\"353.089713\" xlink:href=\"#m25e0252169\" y=\"176.041617\"/>\r\n     <use style=\"fill:#ff7f0e;stroke:#ff7f0e;\" x=\"362.435407\" xlink:href=\"#m25e0252169\" y=\"196.691392\"/>\r\n     <use style=\"fill:#ff7f0e;stroke:#ff7f0e;\" x=\"371.7811\" xlink:href=\"#m25e0252169\" y=\"205.604964\"/>\r\n     <use style=\"fill:#ff7f0e;stroke:#ff7f0e;\" x=\"381.126794\" xlink:href=\"#m25e0252169\" y=\"219.27244\"/>\r\n     <use style=\"fill:#ff7f0e;stroke:#ff7f0e;\" x=\"390.472488\" xlink:href=\"#m25e0252169\" y=\"222.837869\"/>\r\n     <use style=\"fill:#ff7f0e;stroke:#ff7f0e;\" x=\"399.818182\" xlink:href=\"#m25e0252169\" y=\"221.352274\"/>\r\n    </g>\r\n   </g>\r\n   <g id=\"line2d_20\">\r\n    <path clip-path=\"url(#p49b13b3743)\" d=\"M 44.681818 18.717077 \r\nL 54.027512 18.308539 \r\nL 63.373206 18.419958 \r\nL 72.7189 18.494238 \r\nL 82.064593 18.642798 \r\nL 91.410287 18.605658 \r\nL 100.755981 18.791357 \r\nL 110.101675 18.679938 \r\nL 119.447368 18.828497 \r\nL 128.793062 18.494238 \r\nL 138.138756 18.568518 \r\nL 147.48445 18.642798 \r\nL 156.830144 18.419958 \r\nL 166.175837 18.085699 \r\nL 175.521531 18.197119 \r\nL 184.867225 18.271399 \r\nL 194.212919 18.271399 \r\nL 203.558612 18.271399 \r\nL 212.904306 18.01142 \r\nL 222.25 18.04856 \r\nL 231.595694 18.271399 \r\nL 240.941388 18.234259 \r\nL 250.287081 17.9 \r\nL 259.632775 17.97428 \r\nL 268.978469 18.234259 \r\nL 278.324163 19.497015 \r\nL 287.669856 23.730961 \r\nL 297.01555 37.992676 \r\nL 306.361244 48.651822 \r\nL 315.706938 53.108608 \r\nL 325.052632 55.002742 \r\nL 334.398325 54.965602 \r\nL 343.744019 54.965602 \r\nL 353.089713 63.396355 \r\nL 362.435407 65.513329 \r\nL 371.7811 69.450156 \r\nL 381.126794 68.075981 \r\nL 390.472488 68.930198 \r\nL 399.818182 68.15026 \r\n\" style=\"fill:none;stroke:#2ca02c;stroke-dasharray:1.5,2.475;stroke-dashoffset:0;stroke-width:1.5;\"/>\r\n    <defs>\r\n     <path d=\"M 0 -3 \r\nL -0.673542 -0.927051 \r\nL -2.85317 -0.927051 \r\nL -1.089814 0.354102 \r\nL -1.763356 2.427051 \r\nL -0 1.145898 \r\nL 1.763356 2.427051 \r\nL 1.089814 0.354102 \r\nL 2.85317 -0.927051 \r\nL 0.673542 -0.927051 \r\nz\r\n\" id=\"m1c16146d27\" style=\"stroke:#2ca02c;stroke-linejoin:bevel;\"/>\r\n    </defs>\r\n    <g clip-path=\"url(#p49b13b3743)\">\r\n     <use style=\"fill:#2ca02c;stroke:#2ca02c;stroke-linejoin:bevel;\" x=\"44.681818\" xlink:href=\"#m1c16146d27\" y=\"18.717077\"/>\r\n     <use style=\"fill:#2ca02c;stroke:#2ca02c;stroke-linejoin:bevel;\" x=\"54.027512\" xlink:href=\"#m1c16146d27\" y=\"18.308539\"/>\r\n     <use style=\"fill:#2ca02c;stroke:#2ca02c;stroke-linejoin:bevel;\" x=\"63.373206\" xlink:href=\"#m1c16146d27\" y=\"18.419958\"/>\r\n     <use style=\"fill:#2ca02c;stroke:#2ca02c;stroke-linejoin:bevel;\" x=\"72.7189\" xlink:href=\"#m1c16146d27\" y=\"18.494238\"/>\r\n     <use style=\"fill:#2ca02c;stroke:#2ca02c;stroke-linejoin:bevel;\" x=\"82.064593\" xlink:href=\"#m1c16146d27\" y=\"18.642798\"/>\r\n     <use style=\"fill:#2ca02c;stroke:#2ca02c;stroke-linejoin:bevel;\" x=\"91.410287\" xlink:href=\"#m1c16146d27\" y=\"18.605658\"/>\r\n     <use style=\"fill:#2ca02c;stroke:#2ca02c;stroke-linejoin:bevel;\" x=\"100.755981\" xlink:href=\"#m1c16146d27\" y=\"18.791357\"/>\r\n     <use style=\"fill:#2ca02c;stroke:#2ca02c;stroke-linejoin:bevel;\" x=\"110.101675\" xlink:href=\"#m1c16146d27\" y=\"18.679938\"/>\r\n     <use style=\"fill:#2ca02c;stroke:#2ca02c;stroke-linejoin:bevel;\" x=\"119.447368\" xlink:href=\"#m1c16146d27\" y=\"18.828497\"/>\r\n     <use style=\"fill:#2ca02c;stroke:#2ca02c;stroke-linejoin:bevel;\" x=\"128.793062\" xlink:href=\"#m1c16146d27\" y=\"18.494238\"/>\r\n     <use style=\"fill:#2ca02c;stroke:#2ca02c;stroke-linejoin:bevel;\" x=\"138.138756\" xlink:href=\"#m1c16146d27\" y=\"18.568518\"/>\r\n     <use style=\"fill:#2ca02c;stroke:#2ca02c;stroke-linejoin:bevel;\" x=\"147.48445\" xlink:href=\"#m1c16146d27\" y=\"18.642798\"/>\r\n     <use style=\"fill:#2ca02c;stroke:#2ca02c;stroke-linejoin:bevel;\" x=\"156.830144\" xlink:href=\"#m1c16146d27\" y=\"18.419958\"/>\r\n     <use style=\"fill:#2ca02c;stroke:#2ca02c;stroke-linejoin:bevel;\" x=\"166.175837\" xlink:href=\"#m1c16146d27\" y=\"18.085699\"/>\r\n     <use style=\"fill:#2ca02c;stroke:#2ca02c;stroke-linejoin:bevel;\" x=\"175.521531\" xlink:href=\"#m1c16146d27\" y=\"18.197119\"/>\r\n     <use style=\"fill:#2ca02c;stroke:#2ca02c;stroke-linejoin:bevel;\" x=\"184.867225\" xlink:href=\"#m1c16146d27\" y=\"18.271399\"/>\r\n     <use style=\"fill:#2ca02c;stroke:#2ca02c;stroke-linejoin:bevel;\" x=\"194.212919\" xlink:href=\"#m1c16146d27\" y=\"18.271399\"/>\r\n     <use style=\"fill:#2ca02c;stroke:#2ca02c;stroke-linejoin:bevel;\" x=\"203.558612\" xlink:href=\"#m1c16146d27\" y=\"18.271399\"/>\r\n     <use style=\"fill:#2ca02c;stroke:#2ca02c;stroke-linejoin:bevel;\" x=\"212.904306\" xlink:href=\"#m1c16146d27\" y=\"18.01142\"/>\r\n     <use style=\"fill:#2ca02c;stroke:#2ca02c;stroke-linejoin:bevel;\" x=\"222.25\" xlink:href=\"#m1c16146d27\" y=\"18.04856\"/>\r\n     <use style=\"fill:#2ca02c;stroke:#2ca02c;stroke-linejoin:bevel;\" x=\"231.595694\" xlink:href=\"#m1c16146d27\" y=\"18.271399\"/>\r\n     <use style=\"fill:#2ca02c;stroke:#2ca02c;stroke-linejoin:bevel;\" x=\"240.941388\" xlink:href=\"#m1c16146d27\" y=\"18.234259\"/>\r\n     <use style=\"fill:#2ca02c;stroke:#2ca02c;stroke-linejoin:bevel;\" x=\"250.287081\" xlink:href=\"#m1c16146d27\" y=\"17.9\"/>\r\n     <use style=\"fill:#2ca02c;stroke:#2ca02c;stroke-linejoin:bevel;\" x=\"259.632775\" xlink:href=\"#m1c16146d27\" y=\"17.97428\"/>\r\n     <use style=\"fill:#2ca02c;stroke:#2ca02c;stroke-linejoin:bevel;\" x=\"268.978469\" xlink:href=\"#m1c16146d27\" y=\"18.234259\"/>\r\n     <use style=\"fill:#2ca02c;stroke:#2ca02c;stroke-linejoin:bevel;\" x=\"278.324163\" xlink:href=\"#m1c16146d27\" y=\"19.497015\"/>\r\n     <use style=\"fill:#2ca02c;stroke:#2ca02c;stroke-linejoin:bevel;\" x=\"287.669856\" xlink:href=\"#m1c16146d27\" y=\"23.730961\"/>\r\n     <use style=\"fill:#2ca02c;stroke:#2ca02c;stroke-linejoin:bevel;\" x=\"297.01555\" xlink:href=\"#m1c16146d27\" y=\"37.992676\"/>\r\n     <use style=\"fill:#2ca02c;stroke:#2ca02c;stroke-linejoin:bevel;\" x=\"306.361244\" xlink:href=\"#m1c16146d27\" y=\"48.651822\"/>\r\n     <use style=\"fill:#2ca02c;stroke:#2ca02c;stroke-linejoin:bevel;\" x=\"315.706938\" xlink:href=\"#m1c16146d27\" y=\"53.108608\"/>\r\n     <use style=\"fill:#2ca02c;stroke:#2ca02c;stroke-linejoin:bevel;\" x=\"325.052632\" xlink:href=\"#m1c16146d27\" y=\"55.002742\"/>\r\n     <use style=\"fill:#2ca02c;stroke:#2ca02c;stroke-linejoin:bevel;\" x=\"334.398325\" xlink:href=\"#m1c16146d27\" y=\"54.965602\"/>\r\n     <use style=\"fill:#2ca02c;stroke:#2ca02c;stroke-linejoin:bevel;\" x=\"343.744019\" xlink:href=\"#m1c16146d27\" y=\"54.965602\"/>\r\n     <use style=\"fill:#2ca02c;stroke:#2ca02c;stroke-linejoin:bevel;\" x=\"353.089713\" xlink:href=\"#m1c16146d27\" y=\"63.396355\"/>\r\n     <use style=\"fill:#2ca02c;stroke:#2ca02c;stroke-linejoin:bevel;\" x=\"362.435407\" xlink:href=\"#m1c16146d27\" y=\"65.513329\"/>\r\n     <use style=\"fill:#2ca02c;stroke:#2ca02c;stroke-linejoin:bevel;\" x=\"371.7811\" xlink:href=\"#m1c16146d27\" y=\"69.450156\"/>\r\n     <use style=\"fill:#2ca02c;stroke:#2ca02c;stroke-linejoin:bevel;\" x=\"381.126794\" xlink:href=\"#m1c16146d27\" y=\"68.075981\"/>\r\n     <use style=\"fill:#2ca02c;stroke:#2ca02c;stroke-linejoin:bevel;\" x=\"390.472488\" xlink:href=\"#m1c16146d27\" y=\"68.930198\"/>\r\n     <use style=\"fill:#2ca02c;stroke:#2ca02c;stroke-linejoin:bevel;\" x=\"399.818182\" xlink:href=\"#m1c16146d27\" y=\"68.15026\"/>\r\n    </g>\r\n   </g>\r\n   <g id=\"patch_3\">\r\n    <path d=\"M 26.925 242.6 \r\nL 26.925 7.2 \r\n\" style=\"fill:none;stroke:#000000;stroke-linecap:square;stroke-linejoin:miter;stroke-width:0.8;\"/>\r\n   </g>\r\n   <g id=\"patch_4\">\r\n    <path d=\"M 417.575 242.6 \r\nL 417.575 7.2 \r\n\" style=\"fill:none;stroke:#000000;stroke-linecap:square;stroke-linejoin:miter;stroke-width:0.8;\"/>\r\n   </g>\r\n   <g id=\"patch_5\">\r\n    <path d=\"M 26.925 242.6 \r\nL 417.575 242.6 \r\n\" style=\"fill:none;stroke:#000000;stroke-linecap:square;stroke-linejoin:miter;stroke-width:0.8;\"/>\r\n   </g>\r\n   <g id=\"patch_6\">\r\n    <path d=\"M 26.925 7.2 \r\nL 417.575 7.2 \r\n\" style=\"fill:none;stroke:#000000;stroke-linecap:square;stroke-linejoin:miter;stroke-width:0.8;\"/>\r\n   </g>\r\n   <g id=\"legend_1\">\r\n    <g id=\"patch_7\">\r\n     <path d=\"M 33.925 237.6 \r\nL 111.04375 237.6 \r\nQ 113.04375 237.6 113.04375 235.6 \r\nL 113.04375 192.565625 \r\nQ 113.04375 190.565625 111.04375 190.565625 \r\nL 33.925 190.565625 \r\nQ 31.925 190.565625 31.925 192.565625 \r\nL 31.925 235.6 \r\nQ 31.925 237.6 33.925 237.6 \r\nz\r\n\" style=\"fill:#ffffff;opacity:0.8;stroke:#cccccc;stroke-linejoin:miter;\"/>\r\n    </g>\r\n    <g id=\"line2d_21\">\r\n     <path d=\"M 35.925 198.664062 \r\nL 55.925 198.664062 \r\n\" style=\"fill:none;stroke:#1f77b4;stroke-dasharray:5.55,2.4;stroke-dashoffset:0;stroke-width:1.5;\"/>\r\n    </g>\r\n    <g id=\"line2d_22\">\r\n     <g>\r\n      <use style=\"fill:#1f77b4;stroke:#1f77b4;\" x=\"45.925\" xlink:href=\"#m2143f2415a\" y=\"198.664062\"/>\r\n     </g>\r\n    </g>\r\n    <g id=\"text_19\">\r\n     <!-- TPR-Gap -->\r\n     <defs>\r\n      <path d=\"M -0.296875 72.90625 \r\nL 61.375 72.90625 \r\nL 61.375 64.59375 \r\nL 35.5 64.59375 \r\nL 35.5 0 \r\nL 25.59375 0 \r\nL 25.59375 64.59375 \r\nL -0.296875 64.59375 \r\nz\r\n\" id=\"DejaVuSans-84\"/>\r\n      <path d=\"M 44.390625 34.1875 \r\nQ 47.5625 33.109375 50.5625 29.59375 \r\nQ 53.5625 26.078125 56.59375 19.921875 \r\nL 66.609375 0 \r\nL 56 0 \r\nL 46.6875 18.703125 \r\nQ 43.0625 26.03125 39.671875 28.421875 \r\nQ 36.28125 30.8125 30.421875 30.8125 \r\nL 19.671875 30.8125 \r\nL 19.671875 0 \r\nL 9.8125 0 \r\nL 9.8125 72.90625 \r\nL 32.078125 72.90625 \r\nQ 44.578125 72.90625 50.734375 67.671875 \r\nQ 56.890625 62.453125 56.890625 51.90625 \r\nQ 56.890625 45.015625 53.6875 40.46875 \r\nQ 50.484375 35.9375 44.390625 34.1875 \r\nz\r\nM 19.671875 64.796875 \r\nL 19.671875 38.921875 \r\nL 32.078125 38.921875 \r\nQ 39.203125 38.921875 42.84375 42.21875 \r\nQ 46.484375 45.515625 46.484375 51.90625 \r\nQ 46.484375 58.296875 42.84375 61.546875 \r\nQ 39.203125 64.796875 32.078125 64.796875 \r\nz\r\n\" id=\"DejaVuSans-82\"/>\r\n      <path d=\"M 4.890625 31.390625 \r\nL 31.203125 31.390625 \r\nL 31.203125 23.390625 \r\nL 4.890625 23.390625 \r\nz\r\n\" id=\"DejaVuSans-45\"/>\r\n      <path d=\"M 59.515625 10.40625 \r\nL 59.515625 29.984375 \r\nL 43.40625 29.984375 \r\nL 43.40625 38.09375 \r\nL 69.28125 38.09375 \r\nL 69.28125 6.78125 \r\nQ 63.578125 2.734375 56.6875 0.65625 \r\nQ 49.8125 -1.421875 42 -1.421875 \r\nQ 24.90625 -1.421875 15.25 8.5625 \r\nQ 5.609375 18.5625 5.609375 36.375 \r\nQ 5.609375 54.25 15.25 64.234375 \r\nQ 24.90625 74.21875 42 74.21875 \r\nQ 49.125 74.21875 55.546875 72.453125 \r\nQ 61.96875 70.703125 67.390625 67.28125 \r\nL 67.390625 56.78125 \r\nQ 61.921875 61.421875 55.765625 63.765625 \r\nQ 49.609375 66.109375 42.828125 66.109375 \r\nQ 29.4375 66.109375 22.71875 58.640625 \r\nQ 16.015625 51.171875 16.015625 36.375 \r\nQ 16.015625 21.625 22.71875 14.15625 \r\nQ 29.4375 6.6875 42.828125 6.6875 \r\nQ 48.046875 6.6875 52.140625 7.59375 \r\nQ 56.25 8.5 59.515625 10.40625 \r\nz\r\n\" id=\"DejaVuSans-71\"/>\r\n      <path d=\"M 34.28125 27.484375 \r\nQ 23.390625 27.484375 19.1875 25 \r\nQ 14.984375 22.515625 14.984375 16.5 \r\nQ 14.984375 11.71875 18.140625 8.90625 \r\nQ 21.296875 6.109375 26.703125 6.109375 \r\nQ 34.1875 6.109375 38.703125 11.40625 \r\nQ 43.21875 16.703125 43.21875 25.484375 \r\nL 43.21875 27.484375 \r\nz\r\nM 52.203125 31.203125 \r\nL 52.203125 0 \r\nL 43.21875 0 \r\nL 43.21875 8.296875 \r\nQ 40.140625 3.328125 35.546875 0.953125 \r\nQ 30.953125 -1.421875 24.3125 -1.421875 \r\nQ 15.921875 -1.421875 10.953125 3.296875 \r\nQ 6 8.015625 6 15.921875 \r\nQ 6 25.140625 12.171875 29.828125 \r\nQ 18.359375 34.515625 30.609375 34.515625 \r\nL 43.21875 34.515625 \r\nL 43.21875 35.40625 \r\nQ 43.21875 41.609375 39.140625 45 \r\nQ 35.0625 48.390625 27.6875 48.390625 \r\nQ 23 48.390625 18.546875 47.265625 \r\nQ 14.109375 46.140625 10.015625 43.890625 \r\nL 10.015625 52.203125 \r\nQ 14.9375 54.109375 19.578125 55.046875 \r\nQ 24.21875 56 28.609375 56 \r\nQ 40.484375 56 46.34375 49.84375 \r\nQ 52.203125 43.703125 52.203125 31.203125 \r\nz\r\n\" id=\"DejaVuSans-97\"/>\r\n      <path d=\"M 18.109375 8.203125 \r\nL 18.109375 -20.796875 \r\nL 9.078125 -20.796875 \r\nL 9.078125 54.6875 \r\nL 18.109375 54.6875 \r\nL 18.109375 46.390625 \r\nQ 20.953125 51.265625 25.265625 53.625 \r\nQ 29.59375 56 35.59375 56 \r\nQ 45.5625 56 51.78125 48.09375 \r\nQ 58.015625 40.1875 58.015625 27.296875 \r\nQ 58.015625 14.40625 51.78125 6.484375 \r\nQ 45.5625 -1.421875 35.59375 -1.421875 \r\nQ 29.59375 -1.421875 25.265625 0.953125 \r\nQ 20.953125 3.328125 18.109375 8.203125 \r\nz\r\nM 48.6875 27.296875 \r\nQ 48.6875 37.203125 44.609375 42.84375 \r\nQ 40.53125 48.484375 33.40625 48.484375 \r\nQ 26.265625 48.484375 22.1875 42.84375 \r\nQ 18.109375 37.203125 18.109375 27.296875 \r\nQ 18.109375 17.390625 22.1875 11.75 \r\nQ 26.265625 6.109375 33.40625 6.109375 \r\nQ 40.53125 6.109375 44.609375 11.75 \r\nQ 48.6875 17.390625 48.6875 27.296875 \r\nz\r\n\" id=\"DejaVuSans-112\"/>\r\n     </defs>\r\n     <g transform=\"translate(63.925 202.164062)scale(0.1 -0.1)\">\r\n      <use xlink:href=\"#DejaVuSans-84\"/>\r\n      <use x=\"61.083984\" xlink:href=\"#DejaVuSans-80\"/>\r\n      <use x=\"121.386719\" xlink:href=\"#DejaVuSans-82\"/>\r\n      <use x=\"186.869141\" xlink:href=\"#DejaVuSans-45\"/>\r\n      <use x=\"226.578125\" xlink:href=\"#DejaVuSans-71\"/>\r\n      <use x=\"304.068359\" xlink:href=\"#DejaVuSans-97\"/>\r\n      <use x=\"365.347656\" xlink:href=\"#DejaVuSans-112\"/>\r\n     </g>\r\n    </g>\r\n    <g id=\"line2d_23\">\r\n     <path d=\"M 35.925 213.342187 \r\nL 55.925 213.342187 \r\n\" style=\"fill:none;stroke:#ff7f0e;stroke-dasharray:5.55,2.4;stroke-dashoffset:0;stroke-width:1.5;\"/>\r\n    </g>\r\n    <g id=\"line2d_24\">\r\n     <g>\r\n      <use style=\"fill:#ff7f0e;stroke:#ff7f0e;\" x=\"45.925\" xlink:href=\"#m25e0252169\" y=\"213.342187\"/>\r\n     </g>\r\n    </g>\r\n    <g id=\"text_20\">\r\n     <!-- TNR-Gap -->\r\n     <defs>\r\n      <path d=\"M 9.8125 72.90625 \r\nL 23.09375 72.90625 \r\nL 55.421875 11.921875 \r\nL 55.421875 72.90625 \r\nL 64.984375 72.90625 \r\nL 64.984375 0 \r\nL 51.703125 0 \r\nL 19.390625 60.984375 \r\nL 19.390625 0 \r\nL 9.8125 0 \r\nz\r\n\" id=\"DejaVuSans-78\"/>\r\n     </defs>\r\n     <g transform=\"translate(63.925 216.842187)scale(0.1 -0.1)\">\r\n      <use xlink:href=\"#DejaVuSans-84\"/>\r\n      <use x=\"61.083984\" xlink:href=\"#DejaVuSans-78\"/>\r\n      <use x=\"135.888672\" xlink:href=\"#DejaVuSans-82\"/>\r\n      <use x=\"201.371094\" xlink:href=\"#DejaVuSans-45\"/>\r\n      <use x=\"241.080078\" xlink:href=\"#DejaVuSans-71\"/>\r\n      <use x=\"318.570312\" xlink:href=\"#DejaVuSans-97\"/>\r\n      <use x=\"379.849609\" xlink:href=\"#DejaVuSans-112\"/>\r\n     </g>\r\n    </g>\r\n    <g id=\"line2d_25\">\r\n     <path d=\"M 35.925 228.020312 \r\nL 55.925 228.020312 \r\n\" style=\"fill:none;stroke:#2ca02c;stroke-dasharray:1.5,2.475;stroke-dashoffset:0;stroke-width:1.5;\"/>\r\n    </g>\r\n    <g id=\"line2d_26\">\r\n     <g>\r\n      <use style=\"fill:#2ca02c;stroke:#2ca02c;stroke-linejoin:bevel;\" x=\"45.925\" xlink:href=\"#m1c16146d27\" y=\"228.020312\"/>\r\n     </g>\r\n    </g>\r\n    <g id=\"text_21\">\r\n     <!-- accuracy -->\r\n     <defs>\r\n      <path d=\"M 48.78125 52.59375 \r\nL 48.78125 44.1875 \r\nQ 44.96875 46.296875 41.140625 47.34375 \r\nQ 37.3125 48.390625 33.40625 48.390625 \r\nQ 24.65625 48.390625 19.8125 42.84375 \r\nQ 14.984375 37.3125 14.984375 27.296875 \r\nQ 14.984375 17.28125 19.8125 11.734375 \r\nQ 24.65625 6.203125 33.40625 6.203125 \r\nQ 37.3125 6.203125 41.140625 7.25 \r\nQ 44.96875 8.296875 48.78125 10.40625 \r\nL 48.78125 2.09375 \r\nQ 45.015625 0.34375 40.984375 -0.53125 \r\nQ 36.96875 -1.421875 32.421875 -1.421875 \r\nQ 20.0625 -1.421875 12.78125 6.34375 \r\nQ 5.515625 14.109375 5.515625 27.296875 \r\nQ 5.515625 40.671875 12.859375 48.328125 \r\nQ 20.21875 56 33.015625 56 \r\nQ 37.15625 56 41.109375 55.140625 \r\nQ 45.0625 54.296875 48.78125 52.59375 \r\nz\r\n\" id=\"DejaVuSans-99\"/>\r\n      <path d=\"M 8.5 21.578125 \r\nL 8.5 54.6875 \r\nL 17.484375 54.6875 \r\nL 17.484375 21.921875 \r\nQ 17.484375 14.15625 20.5 10.265625 \r\nQ 23.53125 6.390625 29.59375 6.390625 \r\nQ 36.859375 6.390625 41.078125 11.03125 \r\nQ 45.3125 15.671875 45.3125 23.6875 \r\nL 45.3125 54.6875 \r\nL 54.296875 54.6875 \r\nL 54.296875 0 \r\nL 45.3125 0 \r\nL 45.3125 8.40625 \r\nQ 42.046875 3.421875 37.71875 1 \r\nQ 33.40625 -1.421875 27.6875 -1.421875 \r\nQ 18.265625 -1.421875 13.375 4.4375 \r\nQ 8.5 10.296875 8.5 21.578125 \r\nz\r\nM 31.109375 56 \r\nz\r\n\" id=\"DejaVuSans-117\"/>\r\n      <path d=\"M 32.171875 -5.078125 \r\nQ 28.375 -14.84375 24.75 -17.8125 \r\nQ 21.140625 -20.796875 15.09375 -20.796875 \r\nL 7.90625 -20.796875 \r\nL 7.90625 -13.28125 \r\nL 13.1875 -13.28125 \r\nQ 16.890625 -13.28125 18.9375 -11.515625 \r\nQ 21 -9.765625 23.484375 -3.21875 \r\nL 25.09375 0.875 \r\nL 2.984375 54.6875 \r\nL 12.5 54.6875 \r\nL 29.59375 11.921875 \r\nL 46.6875 54.6875 \r\nL 56.203125 54.6875 \r\nz\r\n\" id=\"DejaVuSans-121\"/>\r\n     </defs>\r\n     <g transform=\"translate(63.925 231.520312)scale(0.1 -0.1)\">\r\n      <use xlink:href=\"#DejaVuSans-97\"/>\r\n      <use x=\"61.279297\" xlink:href=\"#DejaVuSans-99\"/>\r\n      <use x=\"116.259766\" xlink:href=\"#DejaVuSans-99\"/>\r\n      <use x=\"171.240234\" xlink:href=\"#DejaVuSans-117\"/>\r\n      <use x=\"234.619141\" xlink:href=\"#DejaVuSans-114\"/>\r\n      <use x=\"275.732422\" xlink:href=\"#DejaVuSans-97\"/>\r\n      <use x=\"337.011719\" xlink:href=\"#DejaVuSans-99\"/>\r\n      <use x=\"391.992188\" xlink:href=\"#DejaVuSans-121\"/>\r\n     </g>\r\n    </g>\r\n   </g>\r\n  </g>\r\n </g>\r\n <defs>\r\n  <clipPath id=\"p49b13b3743\">\r\n   <rect height=\"235.4\" width=\"390.65\" x=\"26.925\" y=\"7.2\"/>\r\n  </clipPath>\r\n </defs>\r\n</svg>\r\n",
      "image/png": "[encoded data removed]"
     },
     "metadata": {
      "needs_background": "light"
     }
    }
   ],
   "source": [
    "import matplotlib.pyplot as plt\n",
    "def data2plot(iteration, TPR_GAP, TNR_GAP, ACC, x_label=None, y_label=None, title=None):\n",
    "\n",
    "    # label is optional, and is used for the legend\n",
    "    # here, the third arguemtns are a mix of the `marker' and the `linestyle'\n",
    "    ax = plt.plot(iteration, TPR_GAP, '.--', label='TPR-Gap')\n",
    "    ax = plt.plot(iteration, TNR_GAP, '.--', label='TNR-Gap')\n",
    "    ax = plt.plot(iteration, ACC, '*:', label='accuracy')\n",
    "\n",
    "    if y_label:\n",
    "        plt.ylabel(y_label)\n",
    "    if x_label:\n",
    "        plt.xlabel(x_label)\n",
    "    if title:\n",
    "        plt.title(title)\n",
    "\n",
    "    plt.legend(loc='lower left', frameon=True)\n",
    "    \n",
    "    plt.tight_layout()\n",
    "    plt.show()\n",
    "    \n",
    "data2plot(list(ratio_tradeoff.keys()),\n",
    "          [100*abs(x['debiased_diff_tpr']) for x in ratio_tradeoff.values()],\n",
    "          [100*abs(x['debiased_diff_tnr']) for x in ratio_tradeoff.values()],\n",
    "          [100*x['debiased_acc'] for x in ratio_tradeoff.values()], 'P iter', title='')"
   ]
  },
  {
   "cell_type": "code",
   "execution_count": 22,
   "metadata": {},
   "outputs": [],
   "source": [
    "# select an iteration from INLP results\n",
    "candidate_results = []\n",
    "for k in ratio_tradeoff.keys():\n",
    "    iteration_results = ratio_tradeoff[k]\n",
    "    if (abs(iteration_results['debiased_diff_tpr']) + abs(iteration_results['debiased_diff_tnr'])) <= 0.7:\n",
    "        if iteration_results['debiased_acc'] > 0.65:\n",
    "            candidate_results.append(\n",
    "                (\n",
    "                    iteration_results[\"debiased_acc\"], \n",
    "                    abs(iteration_results['debiased_diff_tpr']), \n",
    "                    abs(iteration_results['debiased_diff_tnr']),\n",
    "                    k\n",
    "                )\n",
    "            )\n",
    "selected_keys = sorted(candidate_results, reverse=True)[0][3]"
   ]
  },
  {
   "cell_type": "code",
   "execution_count": 23,
   "metadata": {},
   "outputs": [
    {
     "output_type": "stream",
     "name": "stdout",
     "text": [
      "{'debiased_diff_tpr': -0.23950000000000005, 'debiased_diff_tnr': 0.453, 'debiased_acc': 0.703625}\n"
     ]
    }
   ],
   "source": [
    "print(ratio_tradeoff[selected_keys])"
   ]
  },
  {
   "cell_type": "code",
   "execution_count": 24,
   "metadata": {},
   "outputs": [],
   "source": [
    "P, rowspace_projections, Ws = P_n \n",
    "n_dims = selected_keys\n",
    "P = get_projection_to_intersection_of_nullspaces(rowspace_projections[:n_dims], input_dim=300)"
   ]
  },
  {
   "cell_type": "code",
   "execution_count": 25,
   "metadata": {},
   "outputs": [],
   "source": [
    "debiased_x_train = P.dot(train_hidden.T).T\n",
    "debiased_x_dev = P.dot(dev_hidden.T).T\n",
    "debiased_x_test = P.dot(test_hidden.T).T"
   ]
  },
  {
   "cell_type": "code",
   "execution_count": 26,
   "metadata": {},
   "outputs": [
    {
     "output_type": "execute_result",
     "data": {
      "text/plain": [
       "LogisticRegression()"
      ]
     },
     "metadata": {},
     "execution_count": 26
    }
   ],
   "source": [
    "from sklearn.linear_model import SGDClassifier, LogisticRegression\n",
    "linear_attacker = LogisticRegression()\n",
    "linear_attacker.fit(debiased_x_train, train_private_labels)"
   ]
  },
  {
   "cell_type": "code",
   "execution_count": 27,
   "metadata": {},
   "outputs": [
    {
     "output_type": "execute_result",
     "data": {
      "text/plain": [
       "0.676875"
      ]
     },
     "metadata": {},
     "execution_count": 27
    }
   ],
   "source": [
    "linear_attacker.score(debiased_x_dev, dev_private_labels)"
   ]
  },
  {
   "cell_type": "code",
   "execution_count": 28,
   "metadata": {},
   "outputs": [
    {
     "output_type": "execute_result",
     "data": {
      "text/plain": [
       "LinearSVC(C=0.1, class_weight='balanced', dual=False, max_iter=10000)"
      ]
     },
     "metadata": {},
     "execution_count": 28
    }
   ],
   "source": [
    "selected_classifier = LinearSVC(fit_intercept=True, class_weight='balanced', dual=False, C=0.1, max_iter=10000)\n",
    "selected_classifier.fit(debiased_x_train, train_labels)"
   ]
  },
  {
   "cell_type": "code",
   "execution_count": 29,
   "metadata": {},
   "outputs": [],
   "source": [
    "debiased_x_train_logits = selected_classifier.decision_function(debiased_x_train)"
   ]
  },
  {
   "cell_type": "code",
   "execution_count": 30,
   "metadata": {},
   "outputs": [],
   "source": [
    "debiased_x_dev_logits = selected_classifier.decision_function(debiased_x_dev)"
   ]
  },
  {
   "cell_type": "code",
   "execution_count": 31,
   "metadata": {},
   "outputs": [
    {
     "output_type": "execute_result",
     "data": {
      "text/plain": [
       "LogisticRegression()"
      ]
     },
     "metadata": {},
     "execution_count": 31
    }
   ],
   "source": [
    "linear_attacker = LogisticRegression()\n",
    "linear_attacker.fit(debiased_x_train_logits.reshape(-1,1), train_private_labels)"
   ]
  },
  {
   "cell_type": "code",
   "execution_count": 32,
   "metadata": {},
   "outputs": [
    {
     "output_type": "execute_result",
     "data": {
      "text/plain": [
       "Counter({1: 49999, 0: 49999})"
      ]
     },
     "metadata": {},
     "execution_count": 32
    }
   ],
   "source": [
    "Counter(train_private_labels)"
   ]
  },
  {
   "cell_type": "code",
   "execution_count": 33,
   "metadata": {},
   "outputs": [
    {
     "output_type": "execute_result",
     "data": {
      "text/plain": [
       "0.675375"
      ]
     },
     "metadata": {},
     "execution_count": 33
    }
   ],
   "source": [
    "linear_attacker.score(debiased_x_dev_logits.reshape(-1,1), dev_private_labels)"
   ]
  }
 ],
 "metadata": {
  "kernelspec": {
   "display_name": "Python 3.7.7 64-bit ('py37': conda)",
   "language": "python",
   "name": "python37764bitpy37conda9d0a1073d6454144b74835e46260853c"
  },
  "language_info": {
   "codemirror_mode": {
    "name": "ipython",
    "version": 3
   },
   "file_extension": ".py",
   "mimetype": "text/x-python",
   "name": "python",
   "nbconvert_exporter": "python",
   "pygments_lexer": "ipython3",
   "version": "3.7.7-final"
  }
 },
 "nbformat": 4,
 "nbformat_minor": 2
}