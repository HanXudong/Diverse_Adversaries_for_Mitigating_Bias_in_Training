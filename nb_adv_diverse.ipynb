{
 "metadata": {
  "language_info": {
   "codemirror_mode": {
    "name": "ipython",
    "version": 3
   },
   "file_extension": ".py",
   "mimetype": "text/x-python",
   "name": "python",
   "nbconvert_exporter": "python",
   "pygments_lexer": "ipython3",
   "version": "3.7.7-final"
  },
  "orig_nbformat": 2,
  "kernelspec": {
   "name": "python37764bitpy37conda9d0a1073d6454144b74835e46260853c",
   "display_name": "Python 3.7.7 64-bit ('py37': conda)",
   "language": "python"
  }
 },
 "nbformat": 4,
 "nbformat_minor": 2,
 "cells": [
  {
   "cell_type": "code",
   "execution_count": 1,
   "metadata": {},
   "outputs": [],
   "source": [
    "import os,argparse,time\n",
    "import numpy as np\n",
    "import torch\n",
    "import torch.backends.cudnn as cudnn\n",
    "import torch.optim \n",
    "import torch.utils.data\n",
    "import torch.utils.data.distributed\n",
    "\n",
    "from sklearn.metrics import accuracy_score\n",
    "from sklearn.metrics import roc_auc_score\n",
    "from sklearn.metrics import average_precision_score\n",
    "from sklearn.metrics import f1_score\n",
    "from sklearn.metrics import confusion_matrix\n",
    "\n",
    "from dataloaders.deep_moji import DeepMojiDataset\n",
    "from networks.deepmoji_sa import DeepMojiModel\n",
    "from networks.discriminator import Discriminator\n",
    "\n",
    "\n",
    "from tqdm import tqdm, trange\n",
    "from networks.customized_loss import DiffLoss\n",
    "\n",
    "from torch.optim import Adam\n",
    "from torch.optim.lr_scheduler import ReduceLROnPlateau\n",
    "\n",
    "from networks.eval_metrices import group_evaluation, leakage_evaluation\n",
    "\n",
    "from pathlib import Path, PureWindowsPath"
   ]
  },
  {
   "cell_type": "code",
   "execution_count": 2,
   "metadata": {},
   "outputs": [],
   "source": [
    "from scripts_deepmoji import adv_train_epoch\n",
    "from scripts_deepmoji import adv_eval_epoch\n",
    "from scripts_deepmoji import train_epoch\n",
    "from scripts_deepmoji import eval_main"
   ]
  },
  {
   "cell_type": "code",
   "execution_count": 3,
   "metadata": {},
   "outputs": [],
   "source": [
    "class Args:\n",
    "    use_fp16 = False\n",
    "    cuda = \"cuda\"\n",
    "    hidden_size = 300\n",
    "    emb_size = 2304\n",
    "    num_classes = 2\n",
    "    adv = True\n",
    "    adv_level = -1\n",
    "    lr = 0.00003\n",
    "    LAMBDA = 1\n",
    "    n_discriminator = 3\n",
    "    adv_units = 256\n",
    "    ratio = 0.8\n",
    "    DL = True\n",
    "    diff_LAMBDA = 10**(3.7)\n",
    "    data_path = \"D:\\\\Project\\\\User_gender_removal\\\\data\\\\deepmoji\\\\split2\\\\\"\n",
    "\n",
    "args = Args()"
   ]
  },
  {
   "cell_type": "code",
   "execution_count": 4,
   "metadata": {},
   "outputs": [
    {
     "output_type": "stream",
     "name": "stdout",
     "text": [
      "Loading preprocessed deepMoji Encoded data\n",
      "Done, loaded data shapes: (99998, 2304), (99998,), (99998,)\n",
      "Loading preprocessed deepMoji Encoded data\n",
      "Done, loaded data shapes: (8000, 2304), (8000,), (8000,)\n",
      "Loading preprocessed deepMoji Encoded data\n",
      "Done, loaded data shapes: (7998, 2304), (7998,), (7998,)\n"
     ]
    }
   ],
   "source": [
    "# file names\n",
    "experiment_type = \"adv_Diverse\"\n",
    "\n",
    "# DataLoader Parameters\n",
    "params = {'batch_size': 512,\n",
    "        'shuffle': True,\n",
    "        'num_workers': 0}\n",
    "# Device\n",
    "device = torch.device(\"cuda\")\n",
    "\n",
    "data_path = args.data_path\n",
    "# Load data\n",
    "train_data = DeepMojiDataset(args, data_path, \"train\", ratio=args.ratio, n = 100000)\n",
    "dev_data = DeepMojiDataset(args, data_path, \"dev\")\n",
    "test_data = DeepMojiDataset(args, data_path, \"test\")\n",
    "\n",
    "# Data loader\n",
    "training_generator = torch.utils.data.DataLoader(train_data, **params)\n",
    "validation_generator = torch.utils.data.DataLoader(dev_data, **params)\n",
    "test_generator = torch.utils.data.DataLoader(test_data, **params)"
   ]
  },
  {
   "cell_type": "code",
   "execution_count": 5,
   "metadata": {},
   "outputs": [],
   "source": [
    "# Init model\n",
    "model = DeepMojiModel(args)\n",
    "\n",
    "model = model.to(device)\n",
    "\n",
    "# Init discriminators\n",
    "# Number of discriminators\n",
    "n_discriminator = args.n_discriminator\n",
    "\n",
    "discriminators = [Discriminator(args, args.hidden_size, 2) for _ in range(n_discriminator)]\n",
    "discriminators = [dis.to(device) for dis in discriminators]\n",
    "\n",
    "diff_loss = DiffLoss()\n",
    "args.diff_loss = diff_loss\n",
    "\n",
    "# Init optimizers\n",
    "LEARNING_RATE = args.lr\n",
    "optimizer = Adam(filter(lambda p: p.requires_grad, model.parameters()), lr=LEARNING_RATE)\n",
    "\n",
    "adv_optimizers = [Adam(filter(lambda p: p.requires_grad, dis.parameters()), lr=1e-1*LEARNING_RATE) for dis in discriminators]\n",
    "\n",
    "# Init learing rate scheduler\n",
    "scheduler = ReduceLROnPlateau(optimizer, mode = 'max', factor = 0.5, patience = 2)\n",
    "\n",
    "# Init criterion\n",
    "criterion = torch.nn.CrossEntropyLoss()"
   ]
  },
  {
   "cell_type": "code",
   "execution_count": 6,
   "metadata": {},
   "outputs": [],
   "source": [
    "main_model_path = \"models\\\\deepnoji_model_{}.pt\".format(experiment_type)\n",
    "adv_model_path = \"models\\\\discriminator_{}_{}.pt\""
   ]
  },
  {
   "cell_type": "code",
   "execution_count": 7,
   "metadata": {},
   "outputs": [
    {
     "output_type": "stream",
     "name": "stderr",
     "text": [
      " 70%|███████   | 42/60 [1:41:29<43:29, 144.99s/it]\n"
     ]
    },
    {
     "output_type": "execute_result",
     "data": {
      "text/plain": [
       "<All keys matched successfully>"
      ]
     },
     "metadata": {},
     "execution_count": 7
    }
   ],
   "source": [
    "best_loss, valid_preds, valid_labels, _ = eval_main(\n",
    "                                                    model = model, \n",
    "                                                    iterator = validation_generator, \n",
    "                                                    criterion = criterion, \n",
    "                                                    device = device, \n",
    "                                                    args = args\n",
    "                                                    )\n",
    "\n",
    "best_acc = accuracy_score(valid_labels, valid_preds)\n",
    "best_epoch = 60\n",
    "\n",
    "for i in trange(60):\n",
    "    train_epoch(\n",
    "                model = model, \n",
    "                discriminators = discriminators, \n",
    "                iterator = training_generator, \n",
    "                optimizer = optimizer, \n",
    "                criterion = criterion, \n",
    "                device = device, \n",
    "                args = args\n",
    "                )\n",
    "\n",
    "    valid_loss, valid_preds, valid_labels, _ = eval_main(\n",
    "                                                        model = model, \n",
    "                                                        iterator = validation_generator, \n",
    "                                                        criterion = criterion, \n",
    "                                                        device = device, \n",
    "                                                        args = args\n",
    "                                                        )\n",
    "    valid_acc = accuracy_score(valid_preds, valid_labels)\n",
    "    # learning rate scheduler\n",
    "    scheduler.step(valid_loss)\n",
    "\n",
    "    # early stopping\n",
    "    if valid_loss < best_loss:\n",
    "        if i >= 5:\n",
    "            best_acc = valid_acc\n",
    "            best_loss = valid_loss\n",
    "            best_epoch = i\n",
    "            torch.save(model.state_dict(), main_model_path)\n",
    "    else:\n",
    "        if best_epoch+5<=i:\n",
    "            break\n",
    "\n",
    "    # Train discriminator untile converged\n",
    "    # evaluate discriminator \n",
    "    best_adv_loss, _, _, _ = adv_eval_epoch(\n",
    "                                            model = model, \n",
    "                                            discriminators = discriminators, \n",
    "                                            iterator = validation_generator, \n",
    "                                            criterion = criterion, \n",
    "                                            device = device, \n",
    "                                            args = args\n",
    "                                            )\n",
    "    best_adv_epoch = -1\n",
    "    for k in range(100):\n",
    "        adv_train_epoch(\n",
    "                        model = model, \n",
    "                        discriminators = discriminators, \n",
    "                        iterator = training_generator, \n",
    "                        adv_optimizers = adv_optimizers, \n",
    "                        criterion = criterion, \n",
    "                        device = device, \n",
    "                        args = args\n",
    "                        )\n",
    "        adv_valid_loss, _, _, _ = adv_eval_epoch(\n",
    "                                                model = model, \n",
    "                                                discriminators = discriminators, \n",
    "                                                iterator = validation_generator, \n",
    "                                                criterion = criterion, \n",
    "                                                device = device, \n",
    "                                                args = args\n",
    "                                                )\n",
    "            \n",
    "        if adv_valid_loss < best_adv_loss:\n",
    "                best_adv_loss = adv_valid_loss\n",
    "                best_adv_epoch = k\n",
    "                for j in range(args.n_discriminator):\n",
    "                    torch.save(discriminators[j].state_dict(), adv_model_path.format(experiment_type, j))\n",
    "        else:\n",
    "            if best_adv_epoch + 5 <= k:\n",
    "                break\n",
    "    for j in range(args.n_discriminator):\n",
    "        discriminators[j].load_state_dict(torch.load(adv_model_path.format(experiment_type, j)))\n",
    "\n",
    "model.load_state_dict(torch.load(main_model_path))"
   ]
  },
  {
   "cell_type": "code",
   "execution_count": 8,
   "metadata": {},
   "outputs": [],
   "source": [
    "test_loss, preds, labels, p_labels = eval_main(model, test_generator, criterion, device, args)\n",
    "preds = np.array(preds)\n",
    "labels = np.array(labels)\n",
    "p_labels = np.array(p_labels)"
   ]
  },
  {
   "cell_type": "code",
   "execution_count": 9,
   "metadata": {},
   "outputs": [
    {
     "output_type": "stream",
     "name": "stdout",
     "text": [
      "Accuracy 0: 0.8005\nAccuracy 1: 0.6993496748374187\nTPR 0: 0.803\nTPR 1: 0.7943971985992997\nTNR 0: 0.798\nTNR 1: 0.6043021510755378\nTPR gap: 0.008602801400700355\nTNR gap: 0.1936978489244623\n"
     ]
    }
   ],
   "source": [
    "eval_metrices = group_evaluation(preds, labels, p_labels, silence=False)"
   ]
  },
  {
   "cell_type": "code",
   "execution_count": 10,
   "metadata": {},
   "outputs": [
    {
     "output_type": "execute_result",
     "data": {
      "text/plain": [
       "0.7499248374187093"
      ]
     },
     "metadata": {},
     "execution_count": 10
    }
   ],
   "source": [
    "(eval_metrices[\"Accuracy_0\"]+eval_metrices[\"Accuracy_1\"])/2"
   ]
  }
 ]
}